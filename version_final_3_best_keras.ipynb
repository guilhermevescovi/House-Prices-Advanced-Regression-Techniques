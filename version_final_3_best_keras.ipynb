{
 "cells": [
  {
   "cell_type": "markdown",
   "metadata": {},
   "source": [
    "# KAGGLE COMPETITION\n",
    "### House Prices: Advanced Regression Techniques\n",
    "Predict sales prices and practice feature engineering, RFs, and gradient boosting"
   ]
  },
  {
   "cell_type": "markdown",
   "metadata": {},
   "source": [
    "#### Por Guilherme Nicchio"
   ]
  },
  {
   "cell_type": "markdown",
   "metadata": {},
   "source": [
    "### LIBRARIES"
   ]
  },
  {
   "cell_type": "code",
   "execution_count": 8,
   "metadata": {
    "ExecuteTime": {
     "end_time": "2019-01-06T11:36:41.095102Z",
     "start_time": "2019-01-06T11:36:41.063187Z"
    }
   },
   "outputs": [],
   "source": [
    "import warnings\n",
    "warnings.filterwarnings('ignore')\n",
    "\n",
    "import pandas as pd\n",
    "import numpy as np\n",
    "import seaborn as sns\n",
    "sns.set(color_codes=True)\n",
    "import matplotlib.pyplot as plt\n",
    "from math import sqrt\n",
    "from scipy.stats import norm, skew\n",
    "from scipy.special import boxcox1p\n",
    "\n",
    "from sklearn.linear_model import ElasticNet, Lasso\n",
    "from sklearn.ensemble import RandomForestRegressor,  GradientBoostingRegressor\n",
    "from sklearn.kernel_ridge import KernelRidge\n",
    "from sklearn.pipeline import make_pipeline\n",
    "from sklearn.preprocessing import RobustScaler\n",
    "from sklearn import preprocessing\n",
    "from sklearn.model_selection import train_test_split\n",
    "from sklearn.metrics import mean_squared_log_error, mean_squared_log_error\n",
    "from sklearn.tree import DecisionTreeRegressor\n",
    "from sklearn.model_selection import train_test_split\n",
    "#Recursive Feature Elimination\n",
    "from sklearn import datasets\n",
    "from sklearn.feature_selection import RFE\n",
    "from sklearn.preprocessing import LabelEncoder\n",
    "\n",
    "\n",
    "import xgboost as xgb"
   ]
  },
  {
   "cell_type": "markdown",
   "metadata": {},
   "source": [
    "### LOADING DATA SETS"
   ]
  },
  {
   "cell_type": "code",
   "execution_count": 9,
   "metadata": {},
   "outputs": [],
   "source": [
    "df_train = pd.read_csv(\"train.csv\", header = 0, delimiter = \",\")\n",
    "df_test = pd.read_csv(\"test.csv\", header = 0, delimiter = \",\")\n",
    "sub_df = pd.read_csv(\"sample_submission.csv\", header = 0, delimiter = \",\")"
   ]
  },
  {
   "cell_type": "code",
   "execution_count": 54,
   "metadata": {},
   "outputs": [
    {
     "data": {
      "text/html": [
       "<div>\n",
       "<style scoped>\n",
       "    .dataframe tbody tr th:only-of-type {\n",
       "        vertical-align: middle;\n",
       "    }\n",
       "\n",
       "    .dataframe tbody tr th {\n",
       "        vertical-align: top;\n",
       "    }\n",
       "\n",
       "    .dataframe thead th {\n",
       "        text-align: right;\n",
       "    }\n",
       "</style>\n",
       "<table border=\"1\" class=\"dataframe\">\n",
       "  <thead>\n",
       "    <tr style=\"text-align: right;\">\n",
       "      <th></th>\n",
       "      <th>Id</th>\n",
       "      <th>MSSubClass</th>\n",
       "      <th>MSZoning</th>\n",
       "      <th>LotFrontage</th>\n",
       "      <th>LotArea</th>\n",
       "      <th>Street</th>\n",
       "      <th>Alley</th>\n",
       "      <th>LotShape</th>\n",
       "      <th>LandContour</th>\n",
       "      <th>Utilities</th>\n",
       "      <th>...</th>\n",
       "      <th>PoolQC</th>\n",
       "      <th>Fence</th>\n",
       "      <th>MiscFeature</th>\n",
       "      <th>MiscVal</th>\n",
       "      <th>MoSold</th>\n",
       "      <th>YrSold</th>\n",
       "      <th>SaleType</th>\n",
       "      <th>SaleCondition</th>\n",
       "      <th>SalePrice</th>\n",
       "      <th>TotalArea</th>\n",
       "    </tr>\n",
       "  </thead>\n",
       "  <tbody>\n",
       "    <tr>\n",
       "      <th>0</th>\n",
       "      <td>1</td>\n",
       "      <td>60</td>\n",
       "      <td>RL</td>\n",
       "      <td>65.0</td>\n",
       "      <td>8450</td>\n",
       "      <td>Pave</td>\n",
       "      <td>NaN</td>\n",
       "      <td>Reg</td>\n",
       "      <td>Lvl</td>\n",
       "      <td>AllPub</td>\n",
       "      <td>...</td>\n",
       "      <td>NaN</td>\n",
       "      <td>NaN</td>\n",
       "      <td>NaN</td>\n",
       "      <td>0</td>\n",
       "      <td>2</td>\n",
       "      <td>2008</td>\n",
       "      <td>WD</td>\n",
       "      <td>Normal</td>\n",
       "      <td>208500</td>\n",
       "      <td>2566</td>\n",
       "    </tr>\n",
       "    <tr>\n",
       "      <th>1</th>\n",
       "      <td>2</td>\n",
       "      <td>20</td>\n",
       "      <td>RL</td>\n",
       "      <td>80.0</td>\n",
       "      <td>9600</td>\n",
       "      <td>Pave</td>\n",
       "      <td>NaN</td>\n",
       "      <td>Reg</td>\n",
       "      <td>Lvl</td>\n",
       "      <td>AllPub</td>\n",
       "      <td>...</td>\n",
       "      <td>NaN</td>\n",
       "      <td>NaN</td>\n",
       "      <td>NaN</td>\n",
       "      <td>0</td>\n",
       "      <td>5</td>\n",
       "      <td>2007</td>\n",
       "      <td>WD</td>\n",
       "      <td>Normal</td>\n",
       "      <td>181500</td>\n",
       "      <td>2524</td>\n",
       "    </tr>\n",
       "    <tr>\n",
       "      <th>2</th>\n",
       "      <td>3</td>\n",
       "      <td>60</td>\n",
       "      <td>RL</td>\n",
       "      <td>68.0</td>\n",
       "      <td>11250</td>\n",
       "      <td>Pave</td>\n",
       "      <td>NaN</td>\n",
       "      <td>IR1</td>\n",
       "      <td>Lvl</td>\n",
       "      <td>AllPub</td>\n",
       "      <td>...</td>\n",
       "      <td>NaN</td>\n",
       "      <td>NaN</td>\n",
       "      <td>NaN</td>\n",
       "      <td>0</td>\n",
       "      <td>9</td>\n",
       "      <td>2008</td>\n",
       "      <td>WD</td>\n",
       "      <td>Normal</td>\n",
       "      <td>223500</td>\n",
       "      <td>2706</td>\n",
       "    </tr>\n",
       "    <tr>\n",
       "      <th>3</th>\n",
       "      <td>4</td>\n",
       "      <td>70</td>\n",
       "      <td>RL</td>\n",
       "      <td>60.0</td>\n",
       "      <td>9550</td>\n",
       "      <td>Pave</td>\n",
       "      <td>NaN</td>\n",
       "      <td>IR1</td>\n",
       "      <td>Lvl</td>\n",
       "      <td>AllPub</td>\n",
       "      <td>...</td>\n",
       "      <td>NaN</td>\n",
       "      <td>NaN</td>\n",
       "      <td>NaN</td>\n",
       "      <td>0</td>\n",
       "      <td>2</td>\n",
       "      <td>2006</td>\n",
       "      <td>WD</td>\n",
       "      <td>Abnorml</td>\n",
       "      <td>140000</td>\n",
       "      <td>2473</td>\n",
       "    </tr>\n",
       "    <tr>\n",
       "      <th>4</th>\n",
       "      <td>5</td>\n",
       "      <td>60</td>\n",
       "      <td>RL</td>\n",
       "      <td>84.0</td>\n",
       "      <td>14260</td>\n",
       "      <td>Pave</td>\n",
       "      <td>NaN</td>\n",
       "      <td>IR1</td>\n",
       "      <td>Lvl</td>\n",
       "      <td>AllPub</td>\n",
       "      <td>...</td>\n",
       "      <td>NaN</td>\n",
       "      <td>NaN</td>\n",
       "      <td>NaN</td>\n",
       "      <td>0</td>\n",
       "      <td>12</td>\n",
       "      <td>2008</td>\n",
       "      <td>WD</td>\n",
       "      <td>Normal</td>\n",
       "      <td>250000</td>\n",
       "      <td>3343</td>\n",
       "    </tr>\n",
       "    <tr>\n",
       "      <th>5</th>\n",
       "      <td>6</td>\n",
       "      <td>50</td>\n",
       "      <td>RL</td>\n",
       "      <td>85.0</td>\n",
       "      <td>14115</td>\n",
       "      <td>Pave</td>\n",
       "      <td>NaN</td>\n",
       "      <td>IR1</td>\n",
       "      <td>Lvl</td>\n",
       "      <td>AllPub</td>\n",
       "      <td>...</td>\n",
       "      <td>NaN</td>\n",
       "      <td>MnPrv</td>\n",
       "      <td>Shed</td>\n",
       "      <td>700</td>\n",
       "      <td>10</td>\n",
       "      <td>2009</td>\n",
       "      <td>WD</td>\n",
       "      <td>Normal</td>\n",
       "      <td>143000</td>\n",
       "      <td>2158</td>\n",
       "    </tr>\n",
       "    <tr>\n",
       "      <th>6</th>\n",
       "      <td>7</td>\n",
       "      <td>20</td>\n",
       "      <td>RL</td>\n",
       "      <td>75.0</td>\n",
       "      <td>10084</td>\n",
       "      <td>Pave</td>\n",
       "      <td>NaN</td>\n",
       "      <td>Reg</td>\n",
       "      <td>Lvl</td>\n",
       "      <td>AllPub</td>\n",
       "      <td>...</td>\n",
       "      <td>NaN</td>\n",
       "      <td>NaN</td>\n",
       "      <td>NaN</td>\n",
       "      <td>0</td>\n",
       "      <td>8</td>\n",
       "      <td>2007</td>\n",
       "      <td>WD</td>\n",
       "      <td>Normal</td>\n",
       "      <td>307000</td>\n",
       "      <td>3380</td>\n",
       "    </tr>\n",
       "    <tr>\n",
       "      <th>7</th>\n",
       "      <td>8</td>\n",
       "      <td>60</td>\n",
       "      <td>RL</td>\n",
       "      <td>NaN</td>\n",
       "      <td>10382</td>\n",
       "      <td>Pave</td>\n",
       "      <td>NaN</td>\n",
       "      <td>IR1</td>\n",
       "      <td>Lvl</td>\n",
       "      <td>AllPub</td>\n",
       "      <td>...</td>\n",
       "      <td>NaN</td>\n",
       "      <td>NaN</td>\n",
       "      <td>Shed</td>\n",
       "      <td>350</td>\n",
       "      <td>11</td>\n",
       "      <td>2009</td>\n",
       "      <td>WD</td>\n",
       "      <td>Normal</td>\n",
       "      <td>200000</td>\n",
       "      <td>3197</td>\n",
       "    </tr>\n",
       "    <tr>\n",
       "      <th>8</th>\n",
       "      <td>9</td>\n",
       "      <td>50</td>\n",
       "      <td>RM</td>\n",
       "      <td>51.0</td>\n",
       "      <td>6120</td>\n",
       "      <td>Pave</td>\n",
       "      <td>NaN</td>\n",
       "      <td>Reg</td>\n",
       "      <td>Lvl</td>\n",
       "      <td>AllPub</td>\n",
       "      <td>...</td>\n",
       "      <td>NaN</td>\n",
       "      <td>NaN</td>\n",
       "      <td>NaN</td>\n",
       "      <td>0</td>\n",
       "      <td>4</td>\n",
       "      <td>2008</td>\n",
       "      <td>WD</td>\n",
       "      <td>Abnorml</td>\n",
       "      <td>129900</td>\n",
       "      <td>2726</td>\n",
       "    </tr>\n",
       "    <tr>\n",
       "      <th>9</th>\n",
       "      <td>10</td>\n",
       "      <td>190</td>\n",
       "      <td>RL</td>\n",
       "      <td>50.0</td>\n",
       "      <td>7420</td>\n",
       "      <td>Pave</td>\n",
       "      <td>NaN</td>\n",
       "      <td>Reg</td>\n",
       "      <td>Lvl</td>\n",
       "      <td>AllPub</td>\n",
       "      <td>...</td>\n",
       "      <td>NaN</td>\n",
       "      <td>NaN</td>\n",
       "      <td>NaN</td>\n",
       "      <td>0</td>\n",
       "      <td>1</td>\n",
       "      <td>2008</td>\n",
       "      <td>WD</td>\n",
       "      <td>Normal</td>\n",
       "      <td>118000</td>\n",
       "      <td>2068</td>\n",
       "    </tr>\n",
       "  </tbody>\n",
       "</table>\n",
       "<p>10 rows × 79 columns</p>\n",
       "</div>"
      ],
      "text/plain": [
       "   Id  MSSubClass MSZoning  LotFrontage  LotArea Street Alley LotShape  \\\n",
       "0   1          60       RL         65.0     8450   Pave   NaN      Reg   \n",
       "1   2          20       RL         80.0     9600   Pave   NaN      Reg   \n",
       "2   3          60       RL         68.0    11250   Pave   NaN      IR1   \n",
       "3   4          70       RL         60.0     9550   Pave   NaN      IR1   \n",
       "4   5          60       RL         84.0    14260   Pave   NaN      IR1   \n",
       "5   6          50       RL         85.0    14115   Pave   NaN      IR1   \n",
       "6   7          20       RL         75.0    10084   Pave   NaN      Reg   \n",
       "7   8          60       RL          NaN    10382   Pave   NaN      IR1   \n",
       "8   9          50       RM         51.0     6120   Pave   NaN      Reg   \n",
       "9  10         190       RL         50.0     7420   Pave   NaN      Reg   \n",
       "\n",
       "  LandContour Utilities    ...     PoolQC  Fence MiscFeature MiscVal MoSold  \\\n",
       "0         Lvl    AllPub    ...        NaN    NaN         NaN       0      2   \n",
       "1         Lvl    AllPub    ...        NaN    NaN         NaN       0      5   \n",
       "2         Lvl    AllPub    ...        NaN    NaN         NaN       0      9   \n",
       "3         Lvl    AllPub    ...        NaN    NaN         NaN       0      2   \n",
       "4         Lvl    AllPub    ...        NaN    NaN         NaN       0     12   \n",
       "5         Lvl    AllPub    ...        NaN  MnPrv        Shed     700     10   \n",
       "6         Lvl    AllPub    ...        NaN    NaN         NaN       0      8   \n",
       "7         Lvl    AllPub    ...        NaN    NaN        Shed     350     11   \n",
       "8         Lvl    AllPub    ...        NaN    NaN         NaN       0      4   \n",
       "9         Lvl    AllPub    ...        NaN    NaN         NaN       0      1   \n",
       "\n",
       "  YrSold SaleType  SaleCondition  SalePrice  TotalArea  \n",
       "0   2008       WD         Normal     208500       2566  \n",
       "1   2007       WD         Normal     181500       2524  \n",
       "2   2008       WD         Normal     223500       2706  \n",
       "3   2006       WD        Abnorml     140000       2473  \n",
       "4   2008       WD         Normal     250000       3343  \n",
       "5   2009       WD         Normal     143000       2158  \n",
       "6   2007       WD         Normal     307000       3380  \n",
       "7   2009       WD         Normal     200000       3197  \n",
       "8   2008       WD        Abnorml     129900       2726  \n",
       "9   2008       WD         Normal     118000       2068  \n",
       "\n",
       "[10 rows x 79 columns]"
      ]
     },
     "execution_count": 54,
     "metadata": {},
     "output_type": "execute_result"
    }
   ],
   "source": [
    "df_train.head(10)"
   ]
  },
  {
   "cell_type": "markdown",
   "metadata": {},
   "source": [
    "Joining df_test with sample submissions"
   ]
  },
  {
   "cell_type": "code",
   "execution_count": 10,
   "metadata": {},
   "outputs": [],
   "source": [
    "df_test = sub_df.merge(df_test)"
   ]
  },
  {
   "cell_type": "code",
   "execution_count": 11,
   "metadata": {},
   "outputs": [
    {
     "name": "stdout",
     "output_type": "stream",
     "text": [
      "Train set shape: (1460, 81)\n",
      "Test set shape: (1459, 81)\n"
     ]
    }
   ],
   "source": [
    "print(\"Train set shape:\", df_train.shape)\n",
    "print(\"Test set shape:\", df_test.shape)"
   ]
  },
  {
   "cell_type": "markdown",
   "metadata": {},
   "source": [
    "# FEATURE ENGINEERING"
   ]
  },
  {
   "cell_type": "markdown",
   "metadata": {},
   "source": [
    "### SUMMING AREAS TO CREATE A BETTER FEATURE"
   ]
  },
  {
   "cell_type": "markdown",
   "metadata": {},
   "source": [
    "TotalBsmtSF, 1stFlrSF, 2ndFlrSF"
   ]
  },
  {
   "cell_type": "code",
   "execution_count": 12,
   "metadata": {},
   "outputs": [],
   "source": [
    "df_train['TotalArea'] = df_train['TotalBsmtSF'] + df_train['1stFlrSF'] + df_train['2ndFlrSF']\n",
    "df_test['TotalArea'] = df_test['TotalBsmtSF'] + df_test['1stFlrSF'] + df_test['2ndFlrSF']"
   ]
  },
  {
   "cell_type": "markdown",
   "metadata": {},
   "source": [
    "Deleting the old columns"
   ]
  },
  {
   "cell_type": "code",
   "execution_count": 13,
   "metadata": {},
   "outputs": [],
   "source": [
    "for i in ['TotalBsmtSF', '1stFlrSF', \"2ndFlrSF\"]:\n",
    "    df_train = df_train.drop(i, axis = 1)\n",
    "    df_test = df_test.drop(i, axis = 1)"
   ]
  },
  {
   "cell_type": "code",
   "execution_count": 14,
   "metadata": {},
   "outputs": [
    {
     "name": "stdout",
     "output_type": "stream",
     "text": [
      "Train set shape: (1460, 79)\n",
      "Test set shape: (1459, 79)\n"
     ]
    }
   ],
   "source": [
    "print(\"Train set shape:\", df_train.shape)\n",
    "print(\"Test set shape:\", df_test.shape)"
   ]
  },
  {
   "cell_type": "markdown",
   "metadata": {},
   "source": [
    "### OUTLIERS IN TRAIN SET"
   ]
  },
  {
   "cell_type": "markdown",
   "metadata": {},
   "source": [
    "Looking at the features in the data set it is expected that **OverallQual** (Overall quality), **Neighborhood**, **GrLivArea** (Above grade (ground) living area square feet), and **Total Area** have a strong relatinship with the Sale Price, so outliers in this variables may make our prediction model bad. So let's take a look at those variables."
   ]
  },
  {
   "cell_type": "markdown",
   "metadata": {},
   "source": [
    "**GrLivArea**"
   ]
  },
  {
   "cell_type": "code",
   "execution_count": 15,
   "metadata": {},
   "outputs": [
    {
     "data": {
      "text/plain": [
       "<matplotlib.axes._subplots.AxesSubplot at 0x157022fe5f8>"
      ]
     },
     "execution_count": 15,
     "metadata": {},
     "output_type": "execute_result"
    },
    {
     "data": {
      "image/png": "[encoded data removed]",
      "text/plain": [
       "<Figure size 1080x576 with 1 Axes>"
      ]
     },
     "metadata": {},
     "output_type": "display_data"
    }
   ],
   "source": [
    "plt.figure(figsize=(15,8))\n",
    "sns.scatterplot(x = df_train['GrLivArea'], y = df_train['SalePrice'], hue = df_train['Neighborhood'], legend = False)"
   ]
  },
  {
   "cell_type": "markdown",
   "metadata": {},
   "source": [
    "We notice two points out of the \"line\" which are very od and we want to remove it."
   ]
  },
  {
   "cell_type": "code",
   "execution_count": 16,
   "metadata": {},
   "outputs": [],
   "source": [
    "df_train = df_train.drop(df_train[(df_train['GrLivArea']>4500) & (df_train['SalePrice']<200000)].index)"
   ]
  },
  {
   "cell_type": "markdown",
   "metadata": {},
   "source": [
    "**TotalArea**"
   ]
  },
  {
   "cell_type": "code",
   "execution_count": 17,
   "metadata": {},
   "outputs": [
    {
     "data": {
      "text/plain": [
       "<matplotlib.axes._subplots.AxesSubplot at 0x157023b5e10>"
      ]
     },
     "execution_count": 17,
     "metadata": {},
     "output_type": "execute_result"
    },
    {
     "data": {
      "image/png": "[encoded data removed]",
      "text/plain": [
       "<Figure size 1080x576 with 1 Axes>"
      ]
     },
     "metadata": {},
     "output_type": "display_data"
    }
   ],
   "source": [
    "plt.figure(figsize=(15,8))\n",
    "sns.scatterplot(x = df_train['TotalArea'], y = df_train['SalePrice'], hue = df_train['Neighborhood'], legend = False)"
   ]
  },
  {
   "cell_type": "markdown",
   "metadata": {},
   "source": [
    "TotalArea seems fine and looks like a linea-ish relation."
   ]
  },
  {
   "cell_type": "markdown",
   "metadata": {},
   "source": [
    "**OverallQual**"
   ]
  },
  {
   "cell_type": "code",
   "execution_count": 18,
   "metadata": {},
   "outputs": [
    {
     "data": {
      "text/plain": [
       "<matplotlib.axes._subplots.AxesSubplot at 0x15702440eb8>"
      ]
     },
     "execution_count": 18,
     "metadata": {},
     "output_type": "execute_result"
    },
    {
     "data": {
      "image/png": "[encoded data removed]",
      "text/plain": [
       "<Figure size 1080x576 with 1 Axes>"
      ]
     },
     "metadata": {},
     "output_type": "display_data"
    }
   ],
   "source": [
    "plt.figure(figsize=(15,8))\n",
    "sns.scatterplot(x = df_train['OverallQual'], y = df_train['SalePrice'], hue = df_train['Neighborhood'], legend = False)"
   ]
  },
  {
   "cell_type": "markdown",
   "metadata": {},
   "source": [
    "OverallQual seems fine."
   ]
  },
  {
   "cell_type": "markdown",
   "metadata": {},
   "source": [
    "How is our train set now?"
   ]
  },
  {
   "cell_type": "code",
   "execution_count": 19,
   "metadata": {},
   "outputs": [
    {
     "data": {
      "text/plain": [
       "1458"
      ]
     },
     "execution_count": 19,
     "metadata": {},
     "output_type": "execute_result"
    }
   ],
   "source": [
    "len_train = df_train.shape[0]\n",
    "len_train"
   ]
  },
  {
   "cell_type": "markdown",
   "metadata": {},
   "source": [
    "**Joining both datasets**"
   ]
  },
  {
   "cell_type": "code",
   "execution_count": 20,
   "metadata": {},
   "outputs": [],
   "source": [
    "df_concat = pd.concat([df_train, df_test], sort = False)"
   ]
  },
  {
   "cell_type": "code",
   "execution_count": 21,
   "metadata": {},
   "outputs": [
    {
     "data": {
      "text/plain": [
       "(2917, 79)"
      ]
     },
     "execution_count": 21,
     "metadata": {},
     "output_type": "execute_result"
    }
   ],
   "source": [
    "df_concat.shape"
   ]
  },
  {
   "cell_type": "code",
   "execution_count": 22,
   "metadata": {},
   "outputs": [],
   "source": [
    "df_concat = df_concat.drop(\"Id\", axis = 1)"
   ]
  },
  {
   "cell_type": "markdown",
   "metadata": {},
   "source": [
    "### LOG TRANSFORM TARGET VARIABLE"
   ]
  },
  {
   "cell_type": "markdown",
   "metadata": {},
   "source": [
    "The target sale price is very skewed so to normalize it we log the target and it become more robust to the model."
   ]
  },
  {
   "cell_type": "code",
   "execution_count": 23,
   "metadata": {},
   "outputs": [
    {
     "name": "stdout",
     "output_type": "stream",
     "text": [
      "Skew: 2.55\n"
     ]
    },
    {
     "data": {
      "image/png": "[encoded data removed]",
      "text/plain": [
       "<Figure size 432x288 with 1 Axes>"
      ]
     },
     "metadata": {},
     "output_type": "display_data"
    }
   ],
   "source": [
    "sns.distplot(df_concat['SalePrice'], bins = 20)\n",
    "print(\"Skew:\", round(df_concat['SalePrice'].skew(),2))"
   ]
  },
  {
   "cell_type": "code",
   "execution_count": 24,
   "metadata": {},
   "outputs": [],
   "source": [
    "df_concat[\"SalePrice\"] = np.log1p(df_concat[\"SalePrice\"])"
   ]
  },
  {
   "cell_type": "code",
   "execution_count": 25,
   "metadata": {},
   "outputs": [
    {
     "name": "stdout",
     "output_type": "stream",
     "text": [
      "Skew: -0.15\n"
     ]
    },
    {
     "data": {
      "image/png": "[encoded data removed]",
      "text/plain": [
       "<Figure size 432x288 with 1 Axes>"
      ]
     },
     "metadata": {},
     "output_type": "display_data"
    }
   ],
   "source": [
    "sns.distplot(df_concat['SalePrice'], bins = 20)\n",
    "print(\"Skew:\", round(df_concat['SalePrice'].skew(),2))"
   ]
  },
  {
   "cell_type": "markdown",
   "metadata": {},
   "source": [
    "### MISSING VALUES"
   ]
  },
  {
   "cell_type": "markdown",
   "metadata": {},
   "source": [
    "**Separating continues from categorical features**"
   ]
  },
  {
   "cell_type": "code",
   "execution_count": 26,
   "metadata": {},
   "outputs": [
    {
     "name": "stdout",
     "output_type": "stream",
     "text": [
      "Continuous: ['MSSubClass', 'LotFrontage', 'LotArea', 'OverallQual', 'OverallCond', 'YearBuilt', 'YearRemodAdd', 'MasVnrArea', 'BsmtFinSF1', 'BsmtFinSF2', 'BsmtUnfSF', 'LowQualFinSF', 'GrLivArea', 'BsmtFullBath', 'BsmtHalfBath', 'FullBath', 'HalfBath', 'BedroomAbvGr', 'KitchenAbvGr', 'TotRmsAbvGrd', 'Fireplaces', 'GarageYrBlt', 'GarageCars', 'GarageArea', 'WoodDeckSF', 'OpenPorchSF', 'EnclosedPorch', '3SsnPorch', 'ScreenPorch', 'PoolArea', 'MiscVal', 'MoSold', 'YrSold', 'SalePrice', 'TotalArea']\n",
      "-\n",
      "Categorical: ['MSZoning', 'Street', 'Alley', 'LotShape', 'LandContour', 'Utilities', 'LotConfig', 'LandSlope', 'Neighborhood', 'Condition1', 'Condition2', 'BldgType', 'HouseStyle', 'RoofStyle', 'RoofMatl', 'Exterior1st', 'Exterior2nd', 'MasVnrType', 'ExterQual', 'ExterCond', 'Foundation', 'BsmtQual', 'BsmtCond', 'BsmtExposure', 'BsmtFinType1', 'BsmtFinType2', 'Heating', 'HeatingQC', 'CentralAir', 'Electrical', 'KitchenQual', 'Functional', 'FireplaceQu', 'GarageType', 'GarageFinish', 'GarageQual', 'GarageCond', 'PavedDrive', 'PoolQC', 'Fence', 'MiscFeature', 'SaleType', 'SaleCondition']\n"
     ]
    }
   ],
   "source": [
    "continuous = []\n",
    "categorical = []\n",
    "\n",
    "for i in df_concat.columns:\n",
    "    if df_concat[i].dtype == \"object\":\n",
    "        categorical.append(i)\n",
    "    else: continuous.append(i)\n",
    "\n",
    "print(\"Continuous:\", continuous)\n",
    "print(\"-\")\n",
    "print(\"Categorical:\", categorical)"
   ]
  },
  {
   "cell_type": "markdown",
   "metadata": {},
   "source": [
    "#### Categorical"
   ]
  },
  {
   "cell_type": "code",
   "execution_count": 27,
   "metadata": {},
   "outputs": [
    {
     "data": {
      "text/html": [
       "<div>\n",
       "<style scoped>\n",
       "    .dataframe tbody tr th:only-of-type {\n",
       "        vertical-align: middle;\n",
       "    }\n",
       "\n",
       "    .dataframe tbody tr th {\n",
       "        vertical-align: top;\n",
       "    }\n",
       "\n",
       "    .dataframe thead th {\n",
       "        text-align: right;\n",
       "    }\n",
       "</style>\n",
       "<table border=\"1\" class=\"dataframe\">\n",
       "  <thead>\n",
       "    <tr style=\"text-align: right;\">\n",
       "      <th></th>\n",
       "      <th>Missing values</th>\n",
       "    </tr>\n",
       "  </thead>\n",
       "  <tbody>\n",
       "    <tr>\n",
       "      <th>PoolQC</th>\n",
       "      <td>2908</td>\n",
       "    </tr>\n",
       "    <tr>\n",
       "      <th>MiscFeature</th>\n",
       "      <td>2812</td>\n",
       "    </tr>\n",
       "    <tr>\n",
       "      <th>Alley</th>\n",
       "      <td>2719</td>\n",
       "    </tr>\n",
       "    <tr>\n",
       "      <th>Fence</th>\n",
       "      <td>2346</td>\n",
       "    </tr>\n",
       "    <tr>\n",
       "      <th>FireplaceQu</th>\n",
       "      <td>1420</td>\n",
       "    </tr>\n",
       "    <tr>\n",
       "      <th>GarageQual</th>\n",
       "      <td>159</td>\n",
       "    </tr>\n",
       "    <tr>\n",
       "      <th>GarageFinish</th>\n",
       "      <td>159</td>\n",
       "    </tr>\n",
       "    <tr>\n",
       "      <th>GarageCond</th>\n",
       "      <td>159</td>\n",
       "    </tr>\n",
       "    <tr>\n",
       "      <th>GarageType</th>\n",
       "      <td>157</td>\n",
       "    </tr>\n",
       "    <tr>\n",
       "      <th>BsmtCond</th>\n",
       "      <td>82</td>\n",
       "    </tr>\n",
       "    <tr>\n",
       "      <th>BsmtExposure</th>\n",
       "      <td>82</td>\n",
       "    </tr>\n",
       "    <tr>\n",
       "      <th>BsmtQual</th>\n",
       "      <td>81</td>\n",
       "    </tr>\n",
       "    <tr>\n",
       "      <th>BsmtFinType2</th>\n",
       "      <td>80</td>\n",
       "    </tr>\n",
       "    <tr>\n",
       "      <th>BsmtFinType1</th>\n",
       "      <td>79</td>\n",
       "    </tr>\n",
       "    <tr>\n",
       "      <th>MasVnrType</th>\n",
       "      <td>24</td>\n",
       "    </tr>\n",
       "    <tr>\n",
       "      <th>MSZoning</th>\n",
       "      <td>4</td>\n",
       "    </tr>\n",
       "    <tr>\n",
       "      <th>Functional</th>\n",
       "      <td>2</td>\n",
       "    </tr>\n",
       "    <tr>\n",
       "      <th>Utilities</th>\n",
       "      <td>2</td>\n",
       "    </tr>\n",
       "    <tr>\n",
       "      <th>Electrical</th>\n",
       "      <td>1</td>\n",
       "    </tr>\n",
       "    <tr>\n",
       "      <th>KitchenQual</th>\n",
       "      <td>1</td>\n",
       "    </tr>\n",
       "    <tr>\n",
       "      <th>Exterior2nd</th>\n",
       "      <td>1</td>\n",
       "    </tr>\n",
       "    <tr>\n",
       "      <th>Exterior1st</th>\n",
       "      <td>1</td>\n",
       "    </tr>\n",
       "    <tr>\n",
       "      <th>SaleType</th>\n",
       "      <td>1</td>\n",
       "    </tr>\n",
       "  </tbody>\n",
       "</table>\n",
       "</div>"
      ],
      "text/plain": [
       "              Missing values\n",
       "PoolQC                  2908\n",
       "MiscFeature             2812\n",
       "Alley                   2719\n",
       "Fence                   2346\n",
       "FireplaceQu             1420\n",
       "GarageQual               159\n",
       "GarageFinish             159\n",
       "GarageCond               159\n",
       "GarageType               157\n",
       "BsmtCond                  82\n",
       "BsmtExposure              82\n",
       "BsmtQual                  81\n",
       "BsmtFinType2              80\n",
       "BsmtFinType1              79\n",
       "MasVnrType                24\n",
       "MSZoning                   4\n",
       "Functional                 2\n",
       "Utilities                  2\n",
       "Electrical                 1\n",
       "KitchenQual                1\n",
       "Exterior2nd                1\n",
       "Exterior1st                1\n",
       "SaleType                   1"
      ]
     },
     "execution_count": 27,
     "metadata": {},
     "output_type": "execute_result"
    }
   ],
   "source": [
    "isna_sum = df_concat[categorical].isna().sum()\n",
    "NaN_columns = [i for i in isna_sum.index if df_concat[i].isna().sum() !=0]\n",
    "df_NaN_values = df_concat[NaN_columns]\n",
    "missing_categorical = pd.DataFrame(df_NaN_values.isna().sum(), columns = [\"Missing values\"])\n",
    "missing_categorical.sort_values([\"Missing values\"], axis = 0, ascending = False)"
   ]
  },
  {
   "cell_type": "markdown",
   "metadata": {},
   "source": [
    "Functional: Home functionality (Assume typical unless deductions are warranted)\n",
    "\n",
    "- Typ\tTypical Functionality\n",
    "- Min1\tMinor Deductions 1\n",
    "- Min2\tMinor Deductions 2\n",
    "- Mod\tModerate Deductions\n",
    "- Maj1\tMajor Deductions 1\n",
    "- Maj2\tMajor Deductions 2\n",
    "- Sev\tSeverely Damaged\n",
    "- Sal\tSalvage only"
   ]
  },
  {
   "cell_type": "code",
   "execution_count": 28,
   "metadata": {},
   "outputs": [],
   "source": [
    "df_concat[\"Functional\"].fillna(\"Typ\", inplace = True)"
   ]
  },
  {
   "cell_type": "markdown",
   "metadata": {},
   "source": [
    "Reading the descriptions of the following features, it is noticeble that an NA means not present so let`s fill the missing with \"NA\""
   ]
  },
  {
   "cell_type": "code",
   "execution_count": 29,
   "metadata": {},
   "outputs": [],
   "source": [
    "for i in [\"PoolQC\", \"MiscFeature\", \"Alley\", \"Fence\", \"FireplaceQu\", \n",
    "            'GarageType', 'GarageFinish', 'GarageQual', 'GarageCond',\n",
    "            'BsmtQual', 'BsmtCond', 'BsmtExposure', 'BsmtFinType1', \n",
    "            'BsmtFinType2', \"MasVnrType\", \"MSSubClass\", \"FireplaceQu\"]:\n",
    "    \n",
    "    df_concat[i].fillna(\"NA\", inplace = True)"
   ]
  },
  {
   "cell_type": "code",
   "execution_count": 30,
   "metadata": {},
   "outputs": [
    {
     "data": {
      "text/plain": [
       "MSZoning       4\n",
       "Utilities      2\n",
       "Exterior1st    1\n",
       "Exterior2nd    1\n",
       "Electrical     1\n",
       "KitchenQual    1\n",
       "SaleType       1\n",
       "dtype: int64"
      ]
     },
     "execution_count": 30,
     "metadata": {},
     "output_type": "execute_result"
    }
   ],
   "source": [
    "isna_sum = df_concat[categorical].isna().sum()\n",
    "NaN_columns = [i for i in isna_sum.index if df_concat[i].isna().sum() !=0]\n",
    "df_NaN_values = df_concat[NaN_columns]\n",
    "df_NaN_values.isna().sum()"
   ]
  },
  {
   "cell_type": "markdown",
   "metadata": {},
   "source": [
    "Now that we filled most of the missing values let's fill the rest with the most common value of the feature, the mode."
   ]
  },
  {
   "cell_type": "code",
   "execution_count": 31,
   "metadata": {},
   "outputs": [],
   "source": [
    "for i in [\"MSZoning\", \"Utilities\", \"Exterior1st\", \"Exterior2nd\", \"Electrical\", \"KitchenQual\", \"SaleType\"]:\n",
    "    df_concat[i].fillna(df_concat[i].mode()[0], inplace = True)"
   ]
  },
  {
   "cell_type": "markdown",
   "metadata": {},
   "source": [
    "#### Continuous"
   ]
  },
  {
   "cell_type": "code",
   "execution_count": 32,
   "metadata": {},
   "outputs": [
    {
     "data": {
      "text/html": [
       "<div>\n",
       "<style scoped>\n",
       "    .dataframe tbody tr th:only-of-type {\n",
       "        vertical-align: middle;\n",
       "    }\n",
       "\n",
       "    .dataframe tbody tr th {\n",
       "        vertical-align: top;\n",
       "    }\n",
       "\n",
       "    .dataframe thead th {\n",
       "        text-align: right;\n",
       "    }\n",
       "</style>\n",
       "<table border=\"1\" class=\"dataframe\">\n",
       "  <thead>\n",
       "    <tr style=\"text-align: right;\">\n",
       "      <th></th>\n",
       "      <th>Missing values</th>\n",
       "    </tr>\n",
       "  </thead>\n",
       "  <tbody>\n",
       "    <tr>\n",
       "      <th>LotFrontage</th>\n",
       "      <td>486</td>\n",
       "    </tr>\n",
       "    <tr>\n",
       "      <th>GarageYrBlt</th>\n",
       "      <td>159</td>\n",
       "    </tr>\n",
       "    <tr>\n",
       "      <th>MasVnrArea</th>\n",
       "      <td>23</td>\n",
       "    </tr>\n",
       "    <tr>\n",
       "      <th>BsmtFullBath</th>\n",
       "      <td>2</td>\n",
       "    </tr>\n",
       "    <tr>\n",
       "      <th>BsmtHalfBath</th>\n",
       "      <td>2</td>\n",
       "    </tr>\n",
       "    <tr>\n",
       "      <th>BsmtFinSF1</th>\n",
       "      <td>1</td>\n",
       "    </tr>\n",
       "    <tr>\n",
       "      <th>BsmtFinSF2</th>\n",
       "      <td>1</td>\n",
       "    </tr>\n",
       "    <tr>\n",
       "      <th>BsmtUnfSF</th>\n",
       "      <td>1</td>\n",
       "    </tr>\n",
       "    <tr>\n",
       "      <th>GarageCars</th>\n",
       "      <td>1</td>\n",
       "    </tr>\n",
       "    <tr>\n",
       "      <th>GarageArea</th>\n",
       "      <td>1</td>\n",
       "    </tr>\n",
       "    <tr>\n",
       "      <th>TotalArea</th>\n",
       "      <td>1</td>\n",
       "    </tr>\n",
       "  </tbody>\n",
       "</table>\n",
       "</div>"
      ],
      "text/plain": [
       "              Missing values\n",
       "LotFrontage              486\n",
       "GarageYrBlt              159\n",
       "MasVnrArea                23\n",
       "BsmtFullBath               2\n",
       "BsmtHalfBath               2\n",
       "BsmtFinSF1                 1\n",
       "BsmtFinSF2                 1\n",
       "BsmtUnfSF                  1\n",
       "GarageCars                 1\n",
       "GarageArea                 1\n",
       "TotalArea                  1"
      ]
     },
     "execution_count": 32,
     "metadata": {},
     "output_type": "execute_result"
    }
   ],
   "source": [
    "isna_sum = df_concat[continuous].isna().sum()\n",
    "NaN_columns = [i for i in isna_sum.index if df_concat[i].isna().sum() !=0]\n",
    "df_NaN_values = df_concat[NaN_columns]\n",
    "missing_continuous = pd.DataFrame(df_NaN_values.isna().sum(), columns = [\"Missing values\"])\n",
    "missing_continuous.sort_values([\"Missing values\"], axis = 0, ascending = False)"
   ]
  },
  {
   "cell_type": "markdown",
   "metadata": {},
   "source": [
    "The **LotFrontage** is the most critical value to be missing, because it means **\"Linear feet of street connected to property\"**. Therefore its value is possible very correlated with the price. It makes sense that most of the houses in a Neighborhood have a somewhat similar value for this feature. Hence, to solve this issue we group by neighborhood and fill in missing values by the median of all the neighborhood."
   ]
  },
  {
   "cell_type": "code",
   "execution_count": 33,
   "metadata": {},
   "outputs": [],
   "source": [
    "df_concat[\"LotFrontage\"] = df_concat.groupby(\"Neighborhood\")[\"LotFrontage\"].transform(\n",
    "    lambda x: x.fillna(x.median()))"
   ]
  },
  {
   "cell_type": "markdown",
   "metadata": {},
   "source": [
    "For the same reason of the related features in categorical data, it is noticeble that a missing value means not present so let`s fill the missing with 0."
   ]
  },
  {
   "cell_type": "code",
   "execution_count": 34,
   "metadata": {},
   "outputs": [],
   "source": [
    "for i in ('GarageYrBlt', 'GarageArea', 'GarageCars', 'BsmtFinSF1', 'BsmtFinSF2', 'BsmtUnfSF', 'BsmtFullBath', \n",
    "            'BsmtHalfBath', \"MasVnrArea\", \"TotalArea\"):\n",
    "    \n",
    "    df_concat[i].fillna(0, inplace = True)"
   ]
  },
  {
   "cell_type": "markdown",
   "metadata": {},
   "source": [
    "**Is there still any missing value?**"
   ]
  },
  {
   "cell_type": "code",
   "execution_count": 35,
   "metadata": {},
   "outputs": [
    {
     "data": {
      "text/plain": [
       "0"
      ]
     },
     "execution_count": 35,
     "metadata": {},
     "output_type": "execute_result"
    }
   ],
   "source": [
    "sum(df_concat.isna().sum())"
   ]
  },
  {
   "cell_type": "markdown",
   "metadata": {},
   "source": [
    "### SKEWED CONTINUOUS FEATURES"
   ]
  },
  {
   "cell_type": "code",
   "execution_count": 36,
   "metadata": {},
   "outputs": [],
   "source": [
    "big_skew = [feature for feature in continuous if abs(df_concat[feature].skew()) > 0.75]"
   ]
  },
  {
   "cell_type": "code",
   "execution_count": 37,
   "metadata": {},
   "outputs": [
    {
     "name": "stdout",
     "output_type": "stream",
     "text": [
      "High skewed data: ['MSSubClass', 'LotFrontage', 'LotArea', 'MasVnrArea', 'BsmtFinSF1', 'BsmtFinSF2', 'BsmtUnfSF', 'LowQualFinSF', 'GrLivArea', 'BsmtHalfBath', 'KitchenAbvGr', 'GarageYrBlt', 'WoodDeckSF', 'OpenPorchSF', 'EnclosedPorch', '3SsnPorch', 'ScreenPorch', 'PoolArea', 'MiscVal', 'TotalArea']\n"
     ]
    },
    {
     "data": {
      "text/plain": [
       "20"
      ]
     },
     "execution_count": 37,
     "metadata": {},
     "output_type": "execute_result"
    }
   ],
   "source": [
    "print(\"High skewed data:\", big_skew)\n",
    "len(big_skew)"
   ]
  },
  {
   "cell_type": "markdown",
   "metadata": {},
   "source": [
    "**APPLYING BOX COX TRANSFORMATION TO SKEWED DATA**"
   ]
  },
  {
   "cell_type": "markdown",
   "metadata": {},
   "source": [
    "A Box Cox transformation is a way to transform non-normal dependent variables into a normal shape. Normality is an important assumption for many statistical techniques; if your data isn’t normal, applying a Box-Cox means that you are able to run a broader number of tests.\n",
    "\n",
    "The parameter lambda (0.15) minimizes the standard deviation of a standardized transformed variable. "
   ]
  },
  {
   "cell_type": "code",
   "execution_count": 38,
   "metadata": {},
   "outputs": [],
   "source": [
    "for feature in big_skew:\n",
    "    df_concat[feature] = boxcox1p(df_concat[feature], 0.40)"
   ]
  },
  {
   "cell_type": "markdown",
   "metadata": {},
   "source": [
    "### GETTING DUMMIES FOR CATEGORICAL VALUES"
   ]
  },
  {
   "cell_type": "code",
   "execution_count": 39,
   "metadata": {},
   "outputs": [
    {
     "name": "stdout",
     "output_type": "stream",
     "text": [
      "(2917, 301)\n"
     ]
    }
   ],
   "source": [
    "df_concat = pd.get_dummies(df_concat)\n",
    "print(df_concat.shape)"
   ]
  },
  {
   "cell_type": "code",
   "execution_count": 40,
   "metadata": {},
   "outputs": [
    {
     "data": {
      "text/plain": [
       "(2917, 301)"
      ]
     },
     "execution_count": 40,
     "metadata": {},
     "output_type": "execute_result"
    }
   ],
   "source": [
    "df_concat.shape"
   ]
  },
  {
   "cell_type": "markdown",
   "metadata": {},
   "source": [
    "## CORRELATION MATRIX"
   ]
  },
  {
   "cell_type": "code",
   "execution_count": 41,
   "metadata": {},
   "outputs": [
    {
     "data": {
      "image/png": "[encoded data removed]",
      "text/plain": [
       "<Figure size 1080x360 with 2 Axes>"
      ]
     },
     "metadata": {},
     "output_type": "display_data"
    }
   ],
   "source": [
    "corrmat = df_concat.corr()\n",
    "high_corr_columns_final = corrmat.index[abs(corrmat[\"SalePrice\"])>0.4]\n",
    "\n",
    "plt.figure(figsize=(15,5))\n",
    "g = sns.heatmap(df_concat[high_corr_columns_final].corr(),annot=True)"
   ]
  },
  {
   "cell_type": "markdown",
   "metadata": {},
   "source": [
    "### SPLITTING THE DATA"
   ]
  },
  {
   "cell_type": "code",
   "execution_count": 42,
   "metadata": {},
   "outputs": [
    {
     "data": {
      "text/plain": [
       "1458"
      ]
     },
     "execution_count": 42,
     "metadata": {},
     "output_type": "execute_result"
    }
   ],
   "source": [
    "len_train"
   ]
  },
  {
   "cell_type": "code",
   "execution_count": 45,
   "metadata": {},
   "outputs": [],
   "source": [
    "train_set_final = df_concat.iloc[:len_train,:]\n",
    "test_set_final = df_concat.iloc[len_train:,:]"
   ]
  },
  {
   "cell_type": "code",
   "execution_count": 46,
   "metadata": {},
   "outputs": [
    {
     "name": "stdout",
     "output_type": "stream",
     "text": [
      "(1458, 301)\n",
      "(1459, 301)\n"
     ]
    }
   ],
   "source": [
    "print(train_set_final.shape)\n",
    "print(test_set_final.shape)"
   ]
  },
  {
   "cell_type": "markdown",
   "metadata": {},
   "source": [
    "# BUILDING THE PREDICTION MODEL"
   ]
  },
  {
   "cell_type": "markdown",
   "metadata": {},
   "source": [
    "Splitting the train data frame into train and test subsets"
   ]
  },
  {
   "cell_type": "code",
   "execution_count": 47,
   "metadata": {},
   "outputs": [],
   "source": [
    "X = train_set_final.drop('SalePrice',axis=1)\n",
    "y = train_set_final[['SalePrice']]\n",
    "X_train, X_test, y_train, y_test = train_test_split(X, y, test_size=0.25, random_state=7)"
   ]
  },
  {
   "cell_type": "markdown",
   "metadata": {},
   "source": [
    "Data for prediction and submit"
   ]
  },
  {
   "cell_type": "code",
   "execution_count": 48,
   "metadata": {},
   "outputs": [],
   "source": [
    "X_submission = test_set_final.drop('SalePrice',axis=1)"
   ]
  },
  {
   "cell_type": "markdown",
   "metadata": {},
   "source": [
    "Models to test the score"
   ]
  },
  {
   "cell_type": "code",
   "execution_count": 41,
   "metadata": {},
   "outputs": [],
   "source": [
    "import lightgbm as lgb"
   ]
  },
  {
   "cell_type": "code",
   "execution_count": 42,
   "metadata": {},
   "outputs": [],
   "source": [
    "modelsFinal = []\n",
    "modelsFinal.append(('ENet', make_pipeline(RobustScaler(), ElasticNet(alpha=0.0005, l1_ratio=.9, random_state=3))))\n",
    "modelsFinal.append(('Lasso', make_pipeline(RobustScaler(), Lasso(alpha =0.0005, random_state=1))))\n",
    "modelsFinal.append(('RF',RandomForestRegressor()))\n",
    "modelsFinal.append(('GB',GradientBoostingRegressor(n_estimators=3000, learning_rate=0.05,\n",
    "                                   max_depth=4, max_features='sqrt',\n",
    "                                   min_samples_leaf=15, min_samples_split=10, \n",
    "                                   loss='huber', random_state =5)))\n",
    "modelsFinal.append((\"KRR\",KernelRidge()))\n",
    "modelsFinal.append((\"Xgb\",xgb.XGBRegressor(colsample_bytree=0.4603, gamma=0.0468, \n",
    "                             learning_rate=0.05, max_depth=3, \n",
    "                             min_child_weight=1.7817, n_estimators=2200,\n",
    "                             reg_alpha=0.4640, reg_lambda=0.8571,\n",
    "                             subsample=0.5213, silent=1,\n",
    "                             random_state =7, nthread = -1)))\n",
    "modelsFinal.append((\"LGB\", lgb.LGBMRegressor(objective='regression',num_leaves=5,\n",
    "                              learning_rate=0.05, n_estimators=720,\n",
    "                              max_bin = 55, bagging_fraction = 0.8,\n",
    "                              bagging_freq = 5, feature_fraction = 0.2319,\n",
    "                              feature_fraction_seed=9, bagging_seed=9,\n",
    "                              min_data_in_leaf =6, min_sum_hessian_in_leaf = 11)))"
   ]
  },
  {
   "cell_type": "code",
   "execution_count": 43,
   "metadata": {},
   "outputs": [],
   "source": [
    "def compute_models(X, y):\n",
    "    names = []\n",
    "    scores = []\n",
    "    frame = pd.DataFrame()\n",
    "    \n",
    "    for name, model in modelsFinal:\n",
    "        model.fit(X, y)\n",
    "        prediction = model.predict(X_submission)\n",
    "        frame[name] = prediction\n",
    "        scores.append(model.score(X_test,y_test))\n",
    "        names.append(name)\n",
    "    \n",
    "    bla = pd.DataFrame(scores, index = names, columns = [\"score\"])\n",
    "    print(bla)\n",
    "    \n",
    "    return frame"
   ]
  },
  {
   "cell_type": "code",
   "execution_count": 1075,
   "metadata": {},
   "outputs": [
    {
     "name": "stdout",
     "output_type": "stream",
     "text": [
      "          score\n",
      "ENet   0.915653\n",
      "Lasso  0.915687\n",
      "RF     0.868449\n",
      "GB     0.904207\n",
      "KRR    0.910132\n",
      "Xgb    0.911107\n",
      "LGB    0.910242\n"
     ]
    }
   ],
   "source": [
    "frame = compute_models(X_train, y_train)"
   ]
  },
  {
   "cell_type": "code",
   "execution_count": 1077,
   "metadata": {},
   "outputs": [
    {
     "data": {
      "text/html": [
       "<div>\n",
       "<style scoped>\n",
       "    .dataframe tbody tr th:only-of-type {\n",
       "        vertical-align: middle;\n",
       "    }\n",
       "\n",
       "    .dataframe tbody tr th {\n",
       "        vertical-align: top;\n",
       "    }\n",
       "\n",
       "    .dataframe thead th {\n",
       "        text-align: right;\n",
       "    }\n",
       "</style>\n",
       "<table border=\"1\" class=\"dataframe\">\n",
       "  <thead>\n",
       "    <tr style=\"text-align: right;\">\n",
       "      <th></th>\n",
       "      <th>ENet</th>\n",
       "      <th>Lasso</th>\n",
       "      <th>RF</th>\n",
       "      <th>GB</th>\n",
       "      <th>KRR</th>\n",
       "      <th>Xgb</th>\n",
       "      <th>LGB</th>\n",
       "    </tr>\n",
       "  </thead>\n",
       "  <tbody>\n",
       "    <tr>\n",
       "      <th>0</th>\n",
       "      <td>11.675174</td>\n",
       "      <td>11.676502</td>\n",
       "      <td>11.691485</td>\n",
       "      <td>11.731262</td>\n",
       "      <td>11.702439</td>\n",
       "      <td>11.732427</td>\n",
       "      <td>11.717868</td>\n",
       "    </tr>\n",
       "    <tr>\n",
       "      <th>1</th>\n",
       "      <td>11.927724</td>\n",
       "      <td>11.928032</td>\n",
       "      <td>12.004032</td>\n",
       "      <td>11.995827</td>\n",
       "      <td>12.052659</td>\n",
       "      <td>11.992205</td>\n",
       "      <td>11.953049</td>\n",
       "    </tr>\n",
       "    <tr>\n",
       "      <th>2</th>\n",
       "      <td>12.124922</td>\n",
       "      <td>12.124805</td>\n",
       "      <td>12.186338</td>\n",
       "      <td>12.166806</td>\n",
       "      <td>12.147903</td>\n",
       "      <td>12.161936</td>\n",
       "      <td>12.186457</td>\n",
       "    </tr>\n",
       "    <tr>\n",
       "      <th>3</th>\n",
       "      <td>12.202135</td>\n",
       "      <td>12.203264</td>\n",
       "      <td>12.156871</td>\n",
       "      <td>12.221538</td>\n",
       "      <td>12.206942</td>\n",
       "      <td>12.176467</td>\n",
       "      <td>12.218126</td>\n",
       "    </tr>\n",
       "    <tr>\n",
       "      <th>4</th>\n",
       "      <td>12.141402</td>\n",
       "      <td>12.139968</td>\n",
       "      <td>12.211262</td>\n",
       "      <td>12.137113</td>\n",
       "      <td>12.152978</td>\n",
       "      <td>12.140879</td>\n",
       "      <td>12.141996</td>\n",
       "    </tr>\n",
       "  </tbody>\n",
       "</table>\n",
       "</div>"
      ],
      "text/plain": [
       "        ENet      Lasso         RF         GB        KRR        Xgb        LGB\n",
       "0  11.675174  11.676502  11.691485  11.731262  11.702439  11.732427  11.717868\n",
       "1  11.927724  11.928032  12.004032  11.995827  12.052659  11.992205  11.953049\n",
       "2  12.124922  12.124805  12.186338  12.166806  12.147903  12.161936  12.186457\n",
       "3  12.202135  12.203264  12.156871  12.221538  12.206942  12.176467  12.218126\n",
       "4  12.141402  12.139968  12.211262  12.137113  12.152978  12.140879  12.141996"
      ]
     },
     "execution_count": 1077,
     "metadata": {},
     "output_type": "execute_result"
    }
   ],
   "source": [
    "frame.head()"
   ]
  },
  {
   "cell_type": "markdown",
   "metadata": {},
   "source": [
    "It is possible to note that the models build over ENet and Lasso and Xgb have a higher score. So lets create a column with the mean value of the 3 predictions. Mixing models is known to increase accuracy."
   ]
  },
  {
   "cell_type": "code",
   "execution_count": 1122,
   "metadata": {},
   "outputs": [],
   "source": [
    "frame[\"mean\"] = (frame[\"ENet\"] + frame[\"Lasso\"] + frame[\"Xgb\"] + frame[\"LGB\"] + frame[\"GB\"]+ frame[\"KRR\"])/6"
   ]
  },
  {
   "cell_type": "code",
   "execution_count": 1123,
   "metadata": {},
   "outputs": [
    {
     "data": {
      "text/html": [
       "<div>\n",
       "<style scoped>\n",
       "    .dataframe tbody tr th:only-of-type {\n",
       "        vertical-align: middle;\n",
       "    }\n",
       "\n",
       "    .dataframe tbody tr th {\n",
       "        vertical-align: top;\n",
       "    }\n",
       "\n",
       "    .dataframe thead th {\n",
       "        text-align: right;\n",
       "    }\n",
       "</style>\n",
       "<table border=\"1\" class=\"dataframe\">\n",
       "  <thead>\n",
       "    <tr style=\"text-align: right;\">\n",
       "      <th></th>\n",
       "      <th>ENet</th>\n",
       "      <th>Lasso</th>\n",
       "      <th>RF</th>\n",
       "      <th>GB</th>\n",
       "      <th>KRR</th>\n",
       "      <th>Xgb</th>\n",
       "      <th>LGB</th>\n",
       "      <th>mean</th>\n",
       "    </tr>\n",
       "  </thead>\n",
       "  <tbody>\n",
       "    <tr>\n",
       "      <th>0</th>\n",
       "      <td>11.675174</td>\n",
       "      <td>11.676502</td>\n",
       "      <td>11.691485</td>\n",
       "      <td>11.731262</td>\n",
       "      <td>11.702439</td>\n",
       "      <td>11.732427</td>\n",
       "      <td>11.717868</td>\n",
       "      <td>11.705945</td>\n",
       "    </tr>\n",
       "    <tr>\n",
       "      <th>1</th>\n",
       "      <td>11.927724</td>\n",
       "      <td>11.928032</td>\n",
       "      <td>12.004032</td>\n",
       "      <td>11.995827</td>\n",
       "      <td>12.052659</td>\n",
       "      <td>11.992205</td>\n",
       "      <td>11.953049</td>\n",
       "      <td>11.974916</td>\n",
       "    </tr>\n",
       "    <tr>\n",
       "      <th>2</th>\n",
       "      <td>12.124922</td>\n",
       "      <td>12.124805</td>\n",
       "      <td>12.186338</td>\n",
       "      <td>12.166806</td>\n",
       "      <td>12.147903</td>\n",
       "      <td>12.161936</td>\n",
       "      <td>12.186457</td>\n",
       "      <td>12.152138</td>\n",
       "    </tr>\n",
       "    <tr>\n",
       "      <th>3</th>\n",
       "      <td>12.202135</td>\n",
       "      <td>12.203264</td>\n",
       "      <td>12.156871</td>\n",
       "      <td>12.221538</td>\n",
       "      <td>12.206942</td>\n",
       "      <td>12.176467</td>\n",
       "      <td>12.218126</td>\n",
       "      <td>12.204745</td>\n",
       "    </tr>\n",
       "    <tr>\n",
       "      <th>4</th>\n",
       "      <td>12.141402</td>\n",
       "      <td>12.139968</td>\n",
       "      <td>12.211262</td>\n",
       "      <td>12.137113</td>\n",
       "      <td>12.152978</td>\n",
       "      <td>12.140879</td>\n",
       "      <td>12.141996</td>\n",
       "      <td>12.142389</td>\n",
       "    </tr>\n",
       "    <tr>\n",
       "      <th>5</th>\n",
       "      <td>12.047464</td>\n",
       "      <td>12.047365</td>\n",
       "      <td>12.115914</td>\n",
       "      <td>12.042377</td>\n",
       "      <td>12.059403</td>\n",
       "      <td>12.073637</td>\n",
       "      <td>12.035569</td>\n",
       "      <td>12.050969</td>\n",
       "    </tr>\n",
       "    <tr>\n",
       "      <th>6</th>\n",
       "      <td>12.065346</td>\n",
       "      <td>12.068854</td>\n",
       "      <td>12.084755</td>\n",
       "      <td>12.084885</td>\n",
       "      <td>12.030502</td>\n",
       "      <td>12.085721</td>\n",
       "      <td>12.059416</td>\n",
       "      <td>12.065787</td>\n",
       "    </tr>\n",
       "    <tr>\n",
       "      <th>7</th>\n",
       "      <td>11.990355</td>\n",
       "      <td>11.990263</td>\n",
       "      <td>12.091752</td>\n",
       "      <td>12.009845</td>\n",
       "      <td>12.005180</td>\n",
       "      <td>11.998858</td>\n",
       "      <td>11.995662</td>\n",
       "      <td>11.998361</td>\n",
       "    </tr>\n",
       "    <tr>\n",
       "      <th>8</th>\n",
       "      <td>12.185296</td>\n",
       "      <td>12.183091</td>\n",
       "      <td>12.138193</td>\n",
       "      <td>12.080789</td>\n",
       "      <td>12.228227</td>\n",
       "      <td>12.158720</td>\n",
       "      <td>12.136612</td>\n",
       "      <td>12.162123</td>\n",
       "    </tr>\n",
       "    <tr>\n",
       "      <th>9</th>\n",
       "      <td>11.679280</td>\n",
       "      <td>11.679413</td>\n",
       "      <td>11.623918</td>\n",
       "      <td>11.733084</td>\n",
       "      <td>11.681263</td>\n",
       "      <td>11.699027</td>\n",
       "      <td>11.732942</td>\n",
       "      <td>11.700835</td>\n",
       "    </tr>\n",
       "  </tbody>\n",
       "</table>\n",
       "</div>"
      ],
      "text/plain": [
       "        ENet      Lasso         RF         GB        KRR        Xgb  \\\n",
       "0  11.675174  11.676502  11.691485  11.731262  11.702439  11.732427   \n",
       "1  11.927724  11.928032  12.004032  11.995827  12.052659  11.992205   \n",
       "2  12.124922  12.124805  12.186338  12.166806  12.147903  12.161936   \n",
       "3  12.202135  12.203264  12.156871  12.221538  12.206942  12.176467   \n",
       "4  12.141402  12.139968  12.211262  12.137113  12.152978  12.140879   \n",
       "5  12.047464  12.047365  12.115914  12.042377  12.059403  12.073637   \n",
       "6  12.065346  12.068854  12.084755  12.084885  12.030502  12.085721   \n",
       "7  11.990355  11.990263  12.091752  12.009845  12.005180  11.998858   \n",
       "8  12.185296  12.183091  12.138193  12.080789  12.228227  12.158720   \n",
       "9  11.679280  11.679413  11.623918  11.733084  11.681263  11.699027   \n",
       "\n",
       "         LGB       mean  \n",
       "0  11.717868  11.705945  \n",
       "1  11.953049  11.974916  \n",
       "2  12.186457  12.152138  \n",
       "3  12.218126  12.204745  \n",
       "4  12.141996  12.142389  \n",
       "5  12.035569  12.050969  \n",
       "6  12.059416  12.065787  \n",
       "7  11.995662  11.998361  \n",
       "8  12.136612  12.162123  \n",
       "9  11.732942  11.700835  "
      ]
     },
     "execution_count": 1123,
     "metadata": {},
     "output_type": "execute_result"
    }
   ],
   "source": [
    "frame.head(10)"
   ]
  },
  {
   "cell_type": "markdown",
   "metadata": {},
   "source": [
    "# SUBMITION"
   ]
  },
  {
   "cell_type": "code",
   "execution_count": 1124,
   "metadata": {},
   "outputs": [],
   "source": [
    "Id = sub_df[\"Id\"].values\n",
    "predictions_id = list(zip(Id,frame[\"mean\"]))"
   ]
  },
  {
   "cell_type": "code",
   "execution_count": 1125,
   "metadata": {},
   "outputs": [],
   "source": [
    "submission = pd.DataFrame(predictions_id , columns = [\"Id\", \"SalePrice\"])"
   ]
  },
  {
   "cell_type": "markdown",
   "metadata": {},
   "source": [
    "Predicted value in log form"
   ]
  },
  {
   "cell_type": "code",
   "execution_count": 1126,
   "metadata": {},
   "outputs": [
    {
     "data": {
      "text/html": [
       "<div>\n",
       "<style scoped>\n",
       "    .dataframe tbody tr th:only-of-type {\n",
       "        vertical-align: middle;\n",
       "    }\n",
       "\n",
       "    .dataframe tbody tr th {\n",
       "        vertical-align: top;\n",
       "    }\n",
       "\n",
       "    .dataframe thead th {\n",
       "        text-align: right;\n",
       "    }\n",
       "</style>\n",
       "<table border=\"1\" class=\"dataframe\">\n",
       "  <thead>\n",
       "    <tr style=\"text-align: right;\">\n",
       "      <th></th>\n",
       "      <th>Id</th>\n",
       "      <th>SalePrice</th>\n",
       "    </tr>\n",
       "  </thead>\n",
       "  <tbody>\n",
       "    <tr>\n",
       "      <th>0</th>\n",
       "      <td>1461</td>\n",
       "      <td>11.705945</td>\n",
       "    </tr>\n",
       "    <tr>\n",
       "      <th>1</th>\n",
       "      <td>1462</td>\n",
       "      <td>11.974916</td>\n",
       "    </tr>\n",
       "    <tr>\n",
       "      <th>2</th>\n",
       "      <td>1463</td>\n",
       "      <td>12.152138</td>\n",
       "    </tr>\n",
       "    <tr>\n",
       "      <th>3</th>\n",
       "      <td>1464</td>\n",
       "      <td>12.204745</td>\n",
       "    </tr>\n",
       "    <tr>\n",
       "      <th>4</th>\n",
       "      <td>1465</td>\n",
       "      <td>12.142389</td>\n",
       "    </tr>\n",
       "  </tbody>\n",
       "</table>\n",
       "</div>"
      ],
      "text/plain": [
       "     Id  SalePrice\n",
       "0  1461  11.705945\n",
       "1  1462  11.974916\n",
       "2  1463  12.152138\n",
       "3  1464  12.204745\n",
       "4  1465  12.142389"
      ]
     },
     "execution_count": 1126,
     "metadata": {},
     "output_type": "execute_result"
    }
   ],
   "source": [
    "submission.head()"
   ]
  },
  {
   "cell_type": "markdown",
   "metadata": {},
   "source": [
    "Converting to original format"
   ]
  },
  {
   "cell_type": "code",
   "execution_count": 1127,
   "metadata": {},
   "outputs": [],
   "source": [
    "submission[\"SalePrice\"] = np.expm1(submission[\"SalePrice\"])"
   ]
  },
  {
   "cell_type": "code",
   "execution_count": 1128,
   "metadata": {},
   "outputs": [
    {
     "data": {
      "text/html": [
       "<div>\n",
       "<style scoped>\n",
       "    .dataframe tbody tr th:only-of-type {\n",
       "        vertical-align: middle;\n",
       "    }\n",
       "\n",
       "    .dataframe tbody tr th {\n",
       "        vertical-align: top;\n",
       "    }\n",
       "\n",
       "    .dataframe thead th {\n",
       "        text-align: right;\n",
       "    }\n",
       "</style>\n",
       "<table border=\"1\" class=\"dataframe\">\n",
       "  <thead>\n",
       "    <tr style=\"text-align: right;\">\n",
       "      <th></th>\n",
       "      <th>Id</th>\n",
       "      <th>SalePrice</th>\n",
       "    </tr>\n",
       "  </thead>\n",
       "  <tbody>\n",
       "    <tr>\n",
       "      <th>0</th>\n",
       "      <td>1461</td>\n",
       "      <td>121289.701118</td>\n",
       "    </tr>\n",
       "    <tr>\n",
       "      <th>1</th>\n",
       "      <td>1462</td>\n",
       "      <td>158722.011066</td>\n",
       "    </tr>\n",
       "    <tr>\n",
       "      <th>2</th>\n",
       "      <td>1463</td>\n",
       "      <td>189497.823688</td>\n",
       "    </tr>\n",
       "    <tr>\n",
       "      <th>3</th>\n",
       "      <td>1464</td>\n",
       "      <td>199733.713860</td>\n",
       "    </tr>\n",
       "    <tr>\n",
       "      <th>4</th>\n",
       "      <td>1465</td>\n",
       "      <td>187659.405255</td>\n",
       "    </tr>\n",
       "  </tbody>\n",
       "</table>\n",
       "</div>"
      ],
      "text/plain": [
       "     Id      SalePrice\n",
       "0  1461  121289.701118\n",
       "1  1462  158722.011066\n",
       "2  1463  189497.823688\n",
       "3  1464  199733.713860\n",
       "4  1465  187659.405255"
      ]
     },
     "execution_count": 1128,
     "metadata": {},
     "output_type": "execute_result"
    }
   ],
   "source": [
    "submission.head()"
   ]
  },
  {
   "cell_type": "code",
   "execution_count": 1129,
   "metadata": {},
   "outputs": [
    {
     "data": {
      "text/plain": [
       "1459"
      ]
     },
     "execution_count": 1129,
     "metadata": {},
     "output_type": "execute_result"
    }
   ],
   "source": [
    "len(submission)"
   ]
  },
  {
   "cell_type": "markdown",
   "metadata": {},
   "source": [
    "### SAVING FILE"
   ]
  },
  {
   "cell_type": "code",
   "execution_count": 1130,
   "metadata": {},
   "outputs": [],
   "source": [
    "submission.to_csv('submission_25.csv',sep=',', encoding='utf-8', index=False)"
   ]
  },
  {
   "cell_type": "code",
   "execution_count": 1131,
   "metadata": {},
   "outputs": [
    {
     "data": {
      "text/plain": [
       "0"
      ]
     },
     "execution_count": 1131,
     "metadata": {},
     "output_type": "execute_result"
    }
   ],
   "source": [
    "submission[\"SalePrice\"].isna().sum()"
   ]
  },
  {
   "cell_type": "markdown",
   "metadata": {},
   "source": [
    "### SCORE: 0.11748 - position 693 (top 15%)\n",
    "**Accuracy around 91%**"
   ]
  },
  {
   "cell_type": "code",
   "execution_count": 554,
   "metadata": {},
   "outputs": [],
   "source": [
    "def nota(score):\n",
    "    m = (30-18)/(0.112-0.132)\n",
    "    nota = m*(score - 0.122) + 24\n",
    "    return nota"
   ]
  },
  {
   "cell_type": "code",
   "execution_count": 556,
   "metadata": {},
   "outputs": [
    {
     "data": {
      "text/plain": [
       "26.71"
      ]
     },
     "execution_count": 556,
     "metadata": {},
     "output_type": "execute_result"
    }
   ],
   "source": [
    "round(nota(0.11748),2)"
   ]
  },
  {
   "cell_type": "markdown",
   "metadata": {},
   "source": [
    "# TO DO:"
   ]
  },
  {
   "cell_type": "markdown",
   "metadata": {},
   "source": [
    "- Explain the parameters of the models\n",
    "- Try filling pool missing features with average for those who have pool"
   ]
  },
  {
   "cell_type": "markdown",
   "metadata": {},
   "source": [
    "# NEURAL NETWORK - TENSORFLOW - KERAS"
   ]
  },
  {
   "cell_type": "markdown",
   "metadata": {},
   "source": [
    "Importing library"
   ]
  },
  {
   "cell_type": "code",
   "execution_count": 74,
   "metadata": {},
   "outputs": [
    {
     "name": "stderr",
     "output_type": "stream",
     "text": [
      "Using TensorFlow backend.\n"
     ]
    }
   ],
   "source": [
    "import os\n",
    "import tensorflow as tf\n",
    "from keras.models import Sequential\n",
    "from keras.layers import *\n",
    "\n",
    "os.environ['TF_CPP_MIN_LOG_LEVEL'] = \"2\""
   ]
  },
  {
   "cell_type": "markdown",
   "metadata": {},
   "source": [
    "Checking what is the device available, in our case CPU, as GPU is not available in my pc"
   ]
  },
  {
   "cell_type": "code",
   "execution_count": 5,
   "metadata": {},
   "outputs": [
    {
     "name": "stdout",
     "output_type": "stream",
     "text": [
      "TensorFlow version: 1.12.0\n"
     ]
    }
   ],
   "source": [
    "print (\"TensorFlow version: \" + tf.__version__)"
   ]
  },
  {
   "cell_type": "code",
   "execution_count": 6,
   "metadata": {},
   "outputs": [],
   "source": [
    "from sklearn.preprocessing import MinMaxScaler"
   ]
  },
  {
   "cell_type": "markdown",
   "metadata": {},
   "source": [
    "All data needs to be scaled to a small range like 0 to 1 for the neural network to work well. Create scalers for the inputs and outputs."
   ]
  },
  {
   "cell_type": "code",
   "execution_count": 49,
   "metadata": {},
   "outputs": [],
   "source": [
    "X_scaler = MinMaxScaler(feature_range=(0, 1))\n",
    "Y_scaler = MinMaxScaler(feature_range=(0, 1))"
   ]
  },
  {
   "cell_type": "markdown",
   "metadata": {},
   "source": [
    "Scale both the training inputs and outputs"
   ]
  },
  {
   "cell_type": "code",
   "execution_count": 51,
   "metadata": {},
   "outputs": [],
   "source": [
    "X_scaled_training = X_scaler.fit_transform(X_train)\n",
    "Y_scaled_training = Y_scaler.fit_transform(y_train)"
   ]
  },
  {
   "cell_type": "markdown",
   "metadata": {},
   "source": [
    "It's very important that the training and test data are scaled with the same scaler."
   ]
  },
  {
   "cell_type": "code",
   "execution_count": 53,
   "metadata": {},
   "outputs": [],
   "source": [
    "X_scaled_testing = X_scaler.transform(X_test)\n",
    "Y_scaled_testing = Y_scaler.transform(y_test)"
   ]
  },
  {
   "cell_type": "markdown",
   "metadata": {},
   "source": [
    "Create new pandas DataFrame objects from the scaled data"
   ]
  },
  {
   "cell_type": "code",
   "execution_count": 58,
   "metadata": {},
   "outputs": [],
   "source": [
    "X_scaled_training_df = pd.DataFrame(X_scaled_training, columns=X_train.columns.values)\n",
    "Y_scaled_training_df = pd.DataFrame(Y_scaled_training, columns=y_train.columns.values)\n",
    "\n",
    "X_scaled_test_df = pd.DataFrame(X_scaled_testing, columns=X_test.columns.values)\n",
    "Y_scaled_test_df = pd.DataFrame(Y_scaled_testing, columns=y_test.columns.values)"
   ]
  },
  {
   "cell_type": "code",
   "execution_count": 92,
   "metadata": {
    "scrolled": true
   },
   "outputs": [
    {
     "name": "stdout",
     "output_type": "stream",
     "text": [
      "Note: SalePrice values were scaled by multiplying by 0.325287499732745 and adding -3.402595322397670\n"
     ]
    }
   ],
   "source": [
    "# Print out the adjustment that the scaler applied to the total_earnings column of data\n",
    "print(\"Note: SalePrice values were scaled by multiplying by {:.15f} and adding {:.15f}\".format(Y_scaler.scale_[0], Y_scaler.min_[0]))"
   ]
  },
  {
   "cell_type": "code",
   "execution_count": 71,
   "metadata": {
    "scrolled": true
   },
   "outputs": [
    {
     "data": {
      "text/plain": [
       "(1093, 300)"
      ]
     },
     "execution_count": 71,
     "metadata": {},
     "output_type": "execute_result"
    }
   ],
   "source": [
    "X_scaled_training_df.shape"
   ]
  },
  {
   "cell_type": "code",
   "execution_count": null,
   "metadata": {},
   "outputs": [],
   "source": []
  },
  {
   "cell_type": "markdown",
   "metadata": {},
   "source": [
    "## BUILDING THE MODEL"
   ]
  },
  {
   "cell_type": "code",
   "execution_count": 159,
   "metadata": {},
   "outputs": [],
   "source": [
    "model = Sequential()\n",
    "model.add(Dense(50, input_dim=300, activation='relu'))\n",
    "model.add(Dense(100, activation='relu'))\n",
    "model.add(Dense(50, activation='relu'))\n",
    "model.add(Dense(1, activation='linear'))\n",
    "model.compile(loss=\"mean_squared_logarithmic_error\", optimizer=\"adam\")"
   ]
  },
  {
   "cell_type": "markdown",
   "metadata": {},
   "source": [
    "## TRAINING THE MODEL"
   ]
  },
  {
   "cell_type": "code",
   "execution_count": 160,
   "metadata": {
    "scrolled": true
   },
   "outputs": [
    {
     "name": "stdout",
     "output_type": "stream",
     "text": [
      "Epoch 1/200\n",
      " - 1s - loss: 0.0158\n",
      "Epoch 2/200\n",
      " - 0s - loss: 0.0028\n",
      "Epoch 3/200\n",
      " - 0s - loss: 0.0018\n",
      "Epoch 4/200\n",
      " - 0s - loss: 0.0013\n",
      "Epoch 5/200\n",
      " - 0s - loss: 0.0010\n",
      "Epoch 6/200\n",
      " - 0s - loss: 8.2059e-04\n",
      "Epoch 7/200\n",
      " - 0s - loss: 7.2427e-04\n",
      "Epoch 8/200\n",
      " - 0s - loss: 6.2216e-04\n",
      "Epoch 9/200\n",
      " - 0s - loss: 5.7075e-04\n",
      "Epoch 10/200\n",
      " - 0s - loss: 4.2288e-04\n",
      "Epoch 11/200\n",
      " - 0s - loss: 4.4348e-04\n",
      "Epoch 12/200\n",
      " - 0s - loss: 3.2375e-04\n",
      "Epoch 13/200\n",
      " - 0s - loss: 3.4375e-04\n",
      "Epoch 14/200\n",
      " - 0s - loss: 2.9227e-04\n",
      "Epoch 15/200\n",
      " - 0s - loss: 2.8387e-04\n",
      "Epoch 16/200\n",
      " - 0s - loss: 3.0144e-04\n",
      "Epoch 17/200\n",
      " - 0s - loss: 2.0561e-04\n",
      "Epoch 18/200\n",
      " - 0s - loss: 1.7446e-04\n",
      "Epoch 19/200\n",
      " - 0s - loss: 1.6228e-04\n",
      "Epoch 20/200\n",
      " - 0s - loss: 2.0812e-04\n",
      "Epoch 21/200\n",
      " - 0s - loss: 2.0293e-04\n",
      "Epoch 22/200\n",
      " - 0s - loss: 1.4422e-04\n",
      "Epoch 23/200\n",
      " - 0s - loss: 1.3987e-04\n",
      "Epoch 24/200\n",
      " - 0s - loss: 1.1915e-04\n",
      "Epoch 25/200\n",
      " - 0s - loss: 1.0768e-04\n",
      "Epoch 26/200\n",
      " - 0s - loss: 1.0520e-04\n",
      "Epoch 27/200\n",
      " - 0s - loss: 1.1283e-04\n",
      "Epoch 28/200\n",
      " - 0s - loss: 8.8892e-05\n",
      "Epoch 29/200\n",
      " - 0s - loss: 1.0121e-04\n",
      "Epoch 30/200\n",
      " - 0s - loss: 1.1145e-04\n",
      "Epoch 31/200\n",
      " - 0s - loss: 8.9864e-05\n",
      "Epoch 32/200\n",
      " - 0s - loss: 8.3159e-05\n",
      "Epoch 33/200\n",
      " - 0s - loss: 7.1648e-05\n",
      "Epoch 34/200\n",
      " - 0s - loss: 6.6957e-05\n",
      "Epoch 35/200\n",
      " - 0s - loss: 7.2726e-05\n",
      "Epoch 36/200\n",
      " - 0s - loss: 5.9471e-05\n",
      "Epoch 37/200\n",
      " - 0s - loss: 7.4151e-05\n",
      "Epoch 38/200\n",
      " - 0s - loss: 7.0810e-05\n",
      "Epoch 39/200\n",
      " - 0s - loss: 6.3599e-05\n",
      "Epoch 40/200\n",
      " - 0s - loss: 5.1635e-05\n",
      "Epoch 41/200\n",
      " - 0s - loss: 4.6602e-05\n",
      "Epoch 42/200\n",
      " - 0s - loss: 4.4984e-05\n",
      "Epoch 43/200\n",
      " - 0s - loss: 3.9833e-05\n",
      "Epoch 44/200\n",
      " - 0s - loss: 4.5007e-05\n",
      "Epoch 45/200\n",
      " - 0s - loss: 4.3184e-05\n",
      "Epoch 46/200\n",
      " - 0s - loss: 3.7484e-05\n",
      "Epoch 47/200\n",
      " - 0s - loss: 5.0559e-05\n",
      "Epoch 48/200\n",
      " - 0s - loss: 5.5439e-05\n",
      "Epoch 49/200\n",
      " - 0s - loss: 4.5449e-05\n",
      "Epoch 50/200\n",
      " - 0s - loss: 5.4211e-05\n",
      "Epoch 51/200\n",
      " - 0s - loss: 6.7684e-05\n",
      "Epoch 52/200\n",
      " - 0s - loss: 6.3035e-05\n",
      "Epoch 53/200\n",
      " - 0s - loss: 6.8955e-05\n",
      "Epoch 54/200\n",
      " - 0s - loss: 6.7796e-05\n",
      "Epoch 55/200\n",
      " - 0s - loss: 4.7934e-05\n",
      "Epoch 56/200\n",
      " - 0s - loss: 5.8677e-05\n",
      "Epoch 57/200\n",
      " - 0s - loss: 4.6247e-05\n",
      "Epoch 58/200\n",
      " - 0s - loss: 4.0024e-05\n",
      "Epoch 59/200\n",
      " - 0s - loss: 4.4159e-05\n",
      "Epoch 60/200\n",
      " - 0s - loss: 3.1917e-05\n",
      "Epoch 61/200\n",
      " - 0s - loss: 7.2820e-05\n",
      "Epoch 62/200\n",
      " - 0s - loss: 8.7232e-05\n",
      "Epoch 63/200\n",
      " - 0s - loss: 7.6030e-05\n",
      "Epoch 64/200\n",
      " - 0s - loss: 7.3872e-05\n",
      "Epoch 65/200\n",
      " - 0s - loss: 6.3311e-05\n",
      "Epoch 66/200\n",
      " - 0s - loss: 5.7724e-05\n",
      "Epoch 67/200\n",
      " - 0s - loss: 4.9171e-05\n",
      "Epoch 68/200\n",
      " - 0s - loss: 1.0822e-04\n",
      "Epoch 69/200\n",
      " - 0s - loss: 9.2365e-05\n",
      "Epoch 70/200\n",
      " - 0s - loss: 9.1183e-05\n",
      "Epoch 71/200\n",
      " - 0s - loss: 6.4663e-05\n",
      "Epoch 72/200\n",
      " - 0s - loss: 4.8555e-05\n",
      "Epoch 73/200\n",
      " - 0s - loss: 7.7224e-05\n",
      "Epoch 74/200\n",
      " - 0s - loss: 1.0856e-04\n",
      "Epoch 75/200\n",
      " - 0s - loss: 9.3767e-05\n",
      "Epoch 76/200\n",
      " - 0s - loss: 1.0663e-04\n",
      "Epoch 77/200\n",
      " - 0s - loss: 7.9481e-05\n",
      "Epoch 78/200\n",
      " - 0s - loss: 6.8000e-05\n",
      "Epoch 79/200\n",
      " - 0s - loss: 5.3131e-05\n",
      "Epoch 80/200\n",
      " - 0s - loss: 7.1609e-05\n",
      "Epoch 81/200\n",
      " - 0s - loss: 6.9665e-05\n",
      "Epoch 82/200\n",
      " - 0s - loss: 5.1036e-05\n",
      "Epoch 83/200\n",
      " - 0s - loss: 3.8712e-05\n",
      "Epoch 84/200\n",
      " - 0s - loss: 4.0763e-05\n",
      "Epoch 85/200\n",
      " - 0s - loss: 6.2152e-05\n",
      "Epoch 86/200\n",
      " - 0s - loss: 4.0855e-05\n",
      "Epoch 87/200\n",
      " - 0s - loss: 3.7483e-05\n",
      "Epoch 88/200\n",
      " - 0s - loss: 1.0333e-04\n",
      "Epoch 89/200\n",
      " - 0s - loss: 7.3344e-05\n",
      "Epoch 90/200\n",
      " - 0s - loss: 7.5653e-05\n",
      "Epoch 91/200\n",
      " - 0s - loss: 8.6940e-05\n",
      "Epoch 92/200\n",
      " - 0s - loss: 6.6703e-05\n",
      "Epoch 93/200\n",
      " - 0s - loss: 5.5888e-05\n",
      "Epoch 94/200\n",
      " - 0s - loss: 3.0551e-05\n",
      "Epoch 95/200\n",
      " - 0s - loss: 2.8123e-05\n",
      "Epoch 96/200\n",
      " - 0s - loss: 2.6051e-05\n",
      "Epoch 97/200\n",
      " - 0s - loss: 2.3052e-05\n",
      "Epoch 98/200\n",
      " - 0s - loss: 3.8753e-05\n",
      "Epoch 99/200\n",
      " - 0s - loss: 5.4940e-05\n",
      "Epoch 100/200\n",
      " - 0s - loss: 6.1586e-05\n",
      "Epoch 101/200\n",
      " - 0s - loss: 5.3192e-05\n",
      "Epoch 102/200\n",
      " - 0s - loss: 3.2311e-05\n",
      "Epoch 103/200\n",
      " - 0s - loss: 2.8342e-05\n",
      "Epoch 104/200\n",
      " - 0s - loss: 2.7191e-05\n",
      "Epoch 105/200\n",
      " - 0s - loss: 2.5325e-05\n",
      "Epoch 106/200\n",
      " - 0s - loss: 8.3858e-05\n",
      "Epoch 107/200\n",
      " - 0s - loss: 1.4865e-04\n",
      "Epoch 108/200\n",
      " - 0s - loss: 1.1327e-04\n",
      "Epoch 109/200\n",
      " - 0s - loss: 1.6066e-04\n",
      "Epoch 110/200\n",
      " - 0s - loss: 2.0673e-04\n",
      "Epoch 111/200\n",
      " - 0s - loss: 1.2047e-04\n",
      "Epoch 112/200\n",
      " - 0s - loss: 8.7732e-05\n",
      "Epoch 113/200\n",
      " - 0s - loss: 2.3957e-04\n",
      "Epoch 114/200\n",
      " - 0s - loss: 1.5824e-04\n",
      "Epoch 115/200\n",
      " - 0s - loss: 7.1043e-05\n",
      "Epoch 116/200\n",
      " - 0s - loss: 8.7847e-05\n",
      "Epoch 117/200\n",
      " - 0s - loss: 5.9796e-05\n",
      "Epoch 118/200\n",
      " - 0s - loss: 3.4194e-05\n",
      "Epoch 119/200\n",
      " - 0s - loss: 2.6329e-05\n",
      "Epoch 120/200\n",
      " - 0s - loss: 2.0482e-05\n",
      "Epoch 121/200\n",
      " - 0s - loss: 2.8292e-05\n",
      "Epoch 122/200\n",
      " - 0s - loss: 2.6906e-05\n",
      "Epoch 123/200\n",
      " - 0s - loss: 2.3154e-05\n",
      "Epoch 124/200\n",
      " - 0s - loss: 2.4878e-05\n",
      "Epoch 125/200\n",
      " - 0s - loss: 2.0140e-05\n",
      "Epoch 126/200\n",
      " - 0s - loss: 4.3168e-05\n",
      "Epoch 127/200\n",
      " - 0s - loss: 2.8125e-05\n",
      "Epoch 128/200\n",
      " - 0s - loss: 2.7410e-05\n",
      "Epoch 129/200\n",
      " - 0s - loss: 2.7374e-05\n",
      "Epoch 130/200\n",
      " - 0s - loss: 2.2068e-05\n",
      "Epoch 131/200\n",
      " - 0s - loss: 2.1847e-05\n",
      "Epoch 132/200\n",
      " - 0s - loss: 1.4828e-05\n",
      "Epoch 133/200\n",
      " - 0s - loss: 3.5168e-05\n",
      "Epoch 134/200\n",
      " - 0s - loss: 4.5465e-05\n",
      "Epoch 135/200\n",
      " - 0s - loss: 4.6901e-05\n",
      "Epoch 136/200\n",
      " - 0s - loss: 3.7858e-05\n",
      "Epoch 137/200\n",
      " - 0s - loss: 4.0972e-05\n",
      "Epoch 138/200\n",
      " - 0s - loss: 3.6617e-05\n",
      "Epoch 139/200\n",
      " - 0s - loss: 5.5346e-05\n",
      "Epoch 140/200\n",
      " - 0s - loss: 4.9258e-05\n",
      "Epoch 141/200\n",
      " - 0s - loss: 5.8602e-05\n",
      "Epoch 142/200\n",
      " - 0s - loss: 7.6193e-05\n",
      "Epoch 143/200\n",
      " - 0s - loss: 5.5469e-05\n",
      "Epoch 144/200\n",
      " - 0s - loss: 5.0120e-05\n",
      "Epoch 145/200\n",
      " - 0s - loss: 4.5204e-05\n",
      "Epoch 146/200\n",
      " - 0s - loss: 1.0040e-04\n",
      "Epoch 147/200\n",
      " - 0s - loss: 7.1769e-05\n",
      "Epoch 148/200\n",
      " - 0s - loss: 4.8140e-05\n",
      "Epoch 149/200\n",
      " - 0s - loss: 4.6885e-05\n",
      "Epoch 150/200\n",
      " - 0s - loss: 5.1444e-05\n",
      "Epoch 151/200\n",
      " - 0s - loss: 5.2889e-05\n",
      "Epoch 152/200\n",
      " - 0s - loss: 5.6427e-05\n",
      "Epoch 153/200\n",
      " - 0s - loss: 5.3632e-05\n",
      "Epoch 154/200\n",
      " - 0s - loss: 4.8154e-05\n",
      "Epoch 155/200\n",
      " - 0s - loss: 6.6877e-05\n",
      "Epoch 156/200\n",
      " - 0s - loss: 3.9876e-05\n",
      "Epoch 157/200\n",
      " - 0s - loss: 3.4885e-05\n",
      "Epoch 158/200\n",
      " - 0s - loss: 2.6918e-05\n",
      "Epoch 159/200\n",
      " - 0s - loss: 3.4088e-05\n",
      "Epoch 160/200\n",
      " - 0s - loss: 2.8866e-05\n",
      "Epoch 161/200\n",
      " - 0s - loss: 2.2907e-05\n",
      "Epoch 162/200\n",
      " - 0s - loss: 2.7453e-05\n",
      "Epoch 163/200\n",
      " - 0s - loss: 3.2652e-05\n",
      "Epoch 164/200\n",
      " - 0s - loss: 2.9306e-05\n",
      "Epoch 165/200\n",
      " - 0s - loss: 5.4496e-05\n",
      "Epoch 166/200\n",
      " - 0s - loss: 5.2469e-05\n",
      "Epoch 167/200\n",
      " - 0s - loss: 7.0451e-05\n",
      "Epoch 168/200\n",
      " - 0s - loss: 5.3959e-05\n",
      "Epoch 169/200\n",
      " - 0s - loss: 3.9110e-05\n",
      "Epoch 170/200\n",
      " - 0s - loss: 3.8159e-05\n",
      "Epoch 171/200\n",
      " - 0s - loss: 4.9839e-05\n",
      "Epoch 172/200\n",
      " - 0s - loss: 5.8965e-05\n",
      "Epoch 173/200\n",
      " - 0s - loss: 3.9092e-05\n",
      "Epoch 174/200\n",
      " - 0s - loss: 3.1320e-05\n",
      "Epoch 175/200\n",
      " - 0s - loss: 4.4596e-05\n",
      "Epoch 176/200\n",
      " - 0s - loss: 8.1332e-05\n",
      "Epoch 177/200\n",
      " - 0s - loss: 6.0434e-05\n",
      "Epoch 178/200\n",
      " - 0s - loss: 5.9071e-05\n",
      "Epoch 179/200\n",
      " - 0s - loss: 4.2744e-05\n",
      "Epoch 180/200\n",
      " - 0s - loss: 3.9122e-05\n",
      "Epoch 181/200\n",
      " - 0s - loss: 6.7035e-05\n",
      "Epoch 182/200\n",
      " - 0s - loss: 6.5808e-05\n",
      "Epoch 183/200\n",
      " - 0s - loss: 4.3765e-05\n",
      "Epoch 184/200\n",
      " - 0s - loss: 3.5231e-05\n",
      "Epoch 185/200\n",
      " - 0s - loss: 2.7425e-05\n",
      "Epoch 186/200\n",
      " - 0s - loss: 3.4938e-05\n",
      "Epoch 187/200\n",
      " - 0s - loss: 4.3089e-05\n",
      "Epoch 188/200\n",
      " - 0s - loss: 2.7092e-05\n",
      "Epoch 189/200\n",
      " - 0s - loss: 2.3712e-05\n",
      "Epoch 190/200\n",
      " - 0s - loss: 1.9293e-05\n",
      "Epoch 191/200\n",
      " - 0s - loss: 5.2663e-05\n",
      "Epoch 192/200\n",
      " - 0s - loss: 1.6995e-04\n",
      "Epoch 193/200\n",
      " - 0s - loss: 2.2009e-04\n",
      "Epoch 194/200\n",
      " - 0s - loss: 1.7208e-04\n",
      "Epoch 195/200\n",
      " - 0s - loss: 1.5533e-04\n",
      "Epoch 196/200\n",
      " - 0s - loss: 1.1188e-04\n",
      "Epoch 197/200\n",
      " - 0s - loss: 7.1147e-05\n",
      "Epoch 198/200\n",
      " - 0s - loss: 4.0547e-05\n",
      "Epoch 199/200\n",
      " - 0s - loss: 3.0070e-05\n",
      "Epoch 200/200\n",
      " - 0s - loss: 2.5712e-05\n"
     ]
    },
    {
     "data": {
      "text/plain": [
       "<keras.callbacks.History at 0x157132b8588>"
      ]
     },
     "execution_count": 160,
     "metadata": {},
     "output_type": "execute_result"
    }
   ],
   "source": [
    "model.fit(\n",
    "    X_scaled_training,\n",
    "    Y_scaled_training,\n",
    "    epochs=200,\n",
    "    shuffle=True,\n",
    "    verbose=2\n",
    ")"
   ]
  },
  {
   "cell_type": "markdown",
   "metadata": {},
   "source": [
    "## TESTING THE MODEL"
   ]
  },
  {
   "cell_type": "code",
   "execution_count": 161,
   "metadata": {},
   "outputs": [
    {
     "name": "stdout",
     "output_type": "stream",
     "text": [
      "The mean squared error (MSE) for the test data set is: 0.0013112077574015991\n"
     ]
    }
   ],
   "source": [
    "test_error_rate = model.evaluate(X_scaled_testing, Y_scaled_testing, verbose=0)\n",
    "print(\"The mean squared error (MSE) for the test data set is: {}\".format(test_error_rate))"
   ]
  },
  {
   "cell_type": "markdown",
   "metadata": {},
   "source": [
    "## PREDICTIONS"
   ]
  },
  {
   "cell_type": "code",
   "execution_count": 162,
   "metadata": {},
   "outputs": [],
   "source": [
    "X_submissions_scaled = X_scaler.transform(X_submission)"
   ]
  },
  {
   "cell_type": "code",
   "execution_count": 163,
   "metadata": {},
   "outputs": [],
   "source": [
    "submission_scaled = model.predict(X_submissions_scaled)"
   ]
  },
  {
   "cell_type": "markdown",
   "metadata": {},
   "source": [
    "SalePrice values were scaled by multiplying by 0.3252874997 and adding -3.402595"
   ]
  },
  {
   "cell_type": "code",
   "execution_count": 164,
   "metadata": {},
   "outputs": [],
   "source": [
    "submission = Y_scaler.inverse_transform(submission_scaled)"
   ]
  },
  {
   "cell_type": "code",
   "execution_count": 165,
   "metadata": {
    "scrolled": true
   },
   "outputs": [
    {
     "data": {
      "text/plain": [
       "array([[11.835401],\n",
       "       [12.003106],\n",
       "       [12.095188],\n",
       "       ...,\n",
       "       [11.909758],\n",
       "       [11.530952],\n",
       "       [12.216854]], dtype=float32)"
      ]
     },
     "execution_count": 165,
     "metadata": {},
     "output_type": "execute_result"
    }
   ],
   "source": [
    "submission"
   ]
  },
  {
   "cell_type": "markdown",
   "metadata": {},
   "source": [
    "## SUBMITION"
   ]
  },
  {
   "cell_type": "code",
   "execution_count": 166,
   "metadata": {},
   "outputs": [],
   "source": [
    "submission = np.expm1(submission)"
   ]
  },
  {
   "cell_type": "code",
   "execution_count": 167,
   "metadata": {},
   "outputs": [],
   "source": [
    "Id = sub_df[\"Id\"].values\n",
    "predictions_id = list(zip(Id,submission))"
   ]
  },
  {
   "cell_type": "code",
   "execution_count": 168,
   "metadata": {},
   "outputs": [],
   "source": [
    "submission = pd.DataFrame(predictions_id , columns = [\"Id\", \"SalePrice\"])"
   ]
  },
  {
   "cell_type": "code",
   "execution_count": 169,
   "metadata": {},
   "outputs": [],
   "source": [
    "for i in range(len(submission[\"SalePrice\"])):\n",
    "    submission[\"SalePrice\"][i] = submission[\"SalePrice\"][i][0]"
   ]
  },
  {
   "cell_type": "code",
   "execution_count": 170,
   "metadata": {
    "scrolled": true
   },
   "outputs": [
    {
     "data": {
      "text/html": [
       "<div>\n",
       "<style scoped>\n",
       "    .dataframe tbody tr th:only-of-type {\n",
       "        vertical-align: middle;\n",
       "    }\n",
       "\n",
       "    .dataframe tbody tr th {\n",
       "        vertical-align: top;\n",
       "    }\n",
       "\n",
       "    .dataframe thead th {\n",
       "        text-align: right;\n",
       "    }\n",
       "</style>\n",
       "<table border=\"1\" class=\"dataframe\">\n",
       "  <thead>\n",
       "    <tr style=\"text-align: right;\">\n",
       "      <th></th>\n",
       "      <th>Id</th>\n",
       "      <th>SalePrice</th>\n",
       "    </tr>\n",
       "  </thead>\n",
       "  <tbody>\n",
       "    <tr>\n",
       "      <th>0</th>\n",
       "      <td>1461</td>\n",
       "      <td>138053</td>\n",
       "    </tr>\n",
       "    <tr>\n",
       "      <th>1</th>\n",
       "      <td>1462</td>\n",
       "      <td>163260</td>\n",
       "    </tr>\n",
       "    <tr>\n",
       "      <th>2</th>\n",
       "      <td>1463</td>\n",
       "      <td>179007</td>\n",
       "    </tr>\n",
       "    <tr>\n",
       "      <th>3</th>\n",
       "      <td>1464</td>\n",
       "      <td>167669</td>\n",
       "    </tr>\n",
       "    <tr>\n",
       "      <th>4</th>\n",
       "      <td>1465</td>\n",
       "      <td>168140</td>\n",
       "    </tr>\n",
       "    <tr>\n",
       "      <th>5</th>\n",
       "      <td>1466</td>\n",
       "      <td>175410</td>\n",
       "    </tr>\n",
       "    <tr>\n",
       "      <th>6</th>\n",
       "      <td>1467</td>\n",
       "      <td>137707</td>\n",
       "    </tr>\n",
       "    <tr>\n",
       "      <th>7</th>\n",
       "      <td>1468</td>\n",
       "      <td>168212</td>\n",
       "    </tr>\n",
       "    <tr>\n",
       "      <th>8</th>\n",
       "      <td>1469</td>\n",
       "      <td>164605</td>\n",
       "    </tr>\n",
       "    <tr>\n",
       "      <th>9</th>\n",
       "      <td>1470</td>\n",
       "      <td>125442</td>\n",
       "    </tr>\n",
       "    <tr>\n",
       "      <th>10</th>\n",
       "      <td>1471</td>\n",
       "      <td>152709</td>\n",
       "    </tr>\n",
       "    <tr>\n",
       "      <th>11</th>\n",
       "      <td>1472</td>\n",
       "      <td>119621</td>\n",
       "    </tr>\n",
       "    <tr>\n",
       "      <th>12</th>\n",
       "      <td>1473</td>\n",
       "      <td>106864</td>\n",
       "    </tr>\n",
       "    <tr>\n",
       "      <th>13</th>\n",
       "      <td>1474</td>\n",
       "      <td>144910</td>\n",
       "    </tr>\n",
       "    <tr>\n",
       "      <th>14</th>\n",
       "      <td>1475</td>\n",
       "      <td>118078</td>\n",
       "    </tr>\n",
       "    <tr>\n",
       "      <th>15</th>\n",
       "      <td>1476</td>\n",
       "      <td>349876</td>\n",
       "    </tr>\n",
       "    <tr>\n",
       "      <th>16</th>\n",
       "      <td>1477</td>\n",
       "      <td>250602</td>\n",
       "    </tr>\n",
       "    <tr>\n",
       "      <th>17</th>\n",
       "      <td>1478</td>\n",
       "      <td>249059</td>\n",
       "    </tr>\n",
       "    <tr>\n",
       "      <th>18</th>\n",
       "      <td>1479</td>\n",
       "      <td>293705</td>\n",
       "    </tr>\n",
       "    <tr>\n",
       "      <th>19</th>\n",
       "      <td>1480</td>\n",
       "      <td>532356</td>\n",
       "    </tr>\n",
       "    <tr>\n",
       "      <th>20</th>\n",
       "      <td>1481</td>\n",
       "      <td>299286</td>\n",
       "    </tr>\n",
       "    <tr>\n",
       "      <th>21</th>\n",
       "      <td>1482</td>\n",
       "      <td>194559</td>\n",
       "    </tr>\n",
       "    <tr>\n",
       "      <th>22</th>\n",
       "      <td>1483</td>\n",
       "      <td>175443</td>\n",
       "    </tr>\n",
       "    <tr>\n",
       "      <th>23</th>\n",
       "      <td>1484</td>\n",
       "      <td>176261</td>\n",
       "    </tr>\n",
       "    <tr>\n",
       "      <th>24</th>\n",
       "      <td>1485</td>\n",
       "      <td>179354</td>\n",
       "    </tr>\n",
       "    <tr>\n",
       "      <th>25</th>\n",
       "      <td>1486</td>\n",
       "      <td>195339</td>\n",
       "    </tr>\n",
       "    <tr>\n",
       "      <th>26</th>\n",
       "      <td>1487</td>\n",
       "      <td>303535</td>\n",
       "    </tr>\n",
       "    <tr>\n",
       "      <th>27</th>\n",
       "      <td>1488</td>\n",
       "      <td>219360</td>\n",
       "    </tr>\n",
       "    <tr>\n",
       "      <th>28</th>\n",
       "      <td>1489</td>\n",
       "      <td>200277</td>\n",
       "    </tr>\n",
       "    <tr>\n",
       "      <th>29</th>\n",
       "      <td>1490</td>\n",
       "      <td>230111</td>\n",
       "    </tr>\n",
       "    <tr>\n",
       "      <th>...</th>\n",
       "      <td>...</td>\n",
       "      <td>...</td>\n",
       "    </tr>\n",
       "    <tr>\n",
       "      <th>1429</th>\n",
       "      <td>2890</td>\n",
       "      <td>86917.1</td>\n",
       "    </tr>\n",
       "    <tr>\n",
       "      <th>1430</th>\n",
       "      <td>2891</td>\n",
       "      <td>130890</td>\n",
       "    </tr>\n",
       "    <tr>\n",
       "      <th>1431</th>\n",
       "      <td>2892</td>\n",
       "      <td>54234.4</td>\n",
       "    </tr>\n",
       "    <tr>\n",
       "      <th>1432</th>\n",
       "      <td>2893</td>\n",
       "      <td>82339</td>\n",
       "    </tr>\n",
       "    <tr>\n",
       "      <th>1433</th>\n",
       "      <td>2894</td>\n",
       "      <td>60979.3</td>\n",
       "    </tr>\n",
       "    <tr>\n",
       "      <th>1434</th>\n",
       "      <td>2895</td>\n",
       "      <td>314912</td>\n",
       "    </tr>\n",
       "    <tr>\n",
       "      <th>1435</th>\n",
       "      <td>2896</td>\n",
       "      <td>256958</td>\n",
       "    </tr>\n",
       "    <tr>\n",
       "      <th>1436</th>\n",
       "      <td>2897</td>\n",
       "      <td>206172</td>\n",
       "    </tr>\n",
       "    <tr>\n",
       "      <th>1437</th>\n",
       "      <td>2898</td>\n",
       "      <td>148828</td>\n",
       "    </tr>\n",
       "    <tr>\n",
       "      <th>1438</th>\n",
       "      <td>2899</td>\n",
       "      <td>215165</td>\n",
       "    </tr>\n",
       "    <tr>\n",
       "      <th>1439</th>\n",
       "      <td>2900</td>\n",
       "      <td>155428</td>\n",
       "    </tr>\n",
       "    <tr>\n",
       "      <th>1440</th>\n",
       "      <td>2901</td>\n",
       "      <td>194309</td>\n",
       "    </tr>\n",
       "    <tr>\n",
       "      <th>1441</th>\n",
       "      <td>2902</td>\n",
       "      <td>161869</td>\n",
       "    </tr>\n",
       "    <tr>\n",
       "      <th>1442</th>\n",
       "      <td>2903</td>\n",
       "      <td>252003</td>\n",
       "    </tr>\n",
       "    <tr>\n",
       "      <th>1443</th>\n",
       "      <td>2904</td>\n",
       "      <td>390071</td>\n",
       "    </tr>\n",
       "    <tr>\n",
       "      <th>1444</th>\n",
       "      <td>2905</td>\n",
       "      <td>86900.2</td>\n",
       "    </tr>\n",
       "    <tr>\n",
       "      <th>1445</th>\n",
       "      <td>2906</td>\n",
       "      <td>185824</td>\n",
       "    </tr>\n",
       "    <tr>\n",
       "      <th>1446</th>\n",
       "      <td>2907</td>\n",
       "      <td>102648</td>\n",
       "    </tr>\n",
       "    <tr>\n",
       "      <th>1447</th>\n",
       "      <td>2908</td>\n",
       "      <td>135618</td>\n",
       "    </tr>\n",
       "    <tr>\n",
       "      <th>1448</th>\n",
       "      <td>2909</td>\n",
       "      <td>137276</td>\n",
       "    </tr>\n",
       "    <tr>\n",
       "      <th>1449</th>\n",
       "      <td>2910</td>\n",
       "      <td>78629.2</td>\n",
       "    </tr>\n",
       "    <tr>\n",
       "      <th>1450</th>\n",
       "      <td>2911</td>\n",
       "      <td>78241.2</td>\n",
       "    </tr>\n",
       "    <tr>\n",
       "      <th>1451</th>\n",
       "      <td>2912</td>\n",
       "      <td>144431</td>\n",
       "    </tr>\n",
       "    <tr>\n",
       "      <th>1452</th>\n",
       "      <td>2913</td>\n",
       "      <td>77745.6</td>\n",
       "    </tr>\n",
       "    <tr>\n",
       "      <th>1453</th>\n",
       "      <td>2914</td>\n",
       "      <td>85168.6</td>\n",
       "    </tr>\n",
       "    <tr>\n",
       "      <th>1454</th>\n",
       "      <td>2915</td>\n",
       "      <td>82532</td>\n",
       "    </tr>\n",
       "    <tr>\n",
       "      <th>1455</th>\n",
       "      <td>2916</td>\n",
       "      <td>73666.2</td>\n",
       "    </tr>\n",
       "    <tr>\n",
       "      <th>1456</th>\n",
       "      <td>2917</td>\n",
       "      <td>148710</td>\n",
       "    </tr>\n",
       "    <tr>\n",
       "      <th>1457</th>\n",
       "      <td>2918</td>\n",
       "      <td>101818</td>\n",
       "    </tr>\n",
       "    <tr>\n",
       "      <th>1458</th>\n",
       "      <td>2919</td>\n",
       "      <td>202167</td>\n",
       "    </tr>\n",
       "  </tbody>\n",
       "</table>\n",
       "<p>1459 rows × 2 columns</p>\n",
       "</div>"
      ],
      "text/plain": [
       "        Id SalePrice\n",
       "0     1461    138053\n",
       "1     1462    163260\n",
       "2     1463    179007\n",
       "3     1464    167669\n",
       "4     1465    168140\n",
       "5     1466    175410\n",
       "6     1467    137707\n",
       "7     1468    168212\n",
       "8     1469    164605\n",
       "9     1470    125442\n",
       "10    1471    152709\n",
       "11    1472    119621\n",
       "12    1473    106864\n",
       "13    1474    144910\n",
       "14    1475    118078\n",
       "15    1476    349876\n",
       "16    1477    250602\n",
       "17    1478    249059\n",
       "18    1479    293705\n",
       "19    1480    532356\n",
       "20    1481    299286\n",
       "21    1482    194559\n",
       "22    1483    175443\n",
       "23    1484    176261\n",
       "24    1485    179354\n",
       "25    1486    195339\n",
       "26    1487    303535\n",
       "27    1488    219360\n",
       "28    1489    200277\n",
       "29    1490    230111\n",
       "...    ...       ...\n",
       "1429  2890   86917.1\n",
       "1430  2891    130890\n",
       "1431  2892   54234.4\n",
       "1432  2893     82339\n",
       "1433  2894   60979.3\n",
       "1434  2895    314912\n",
       "1435  2896    256958\n",
       "1436  2897    206172\n",
       "1437  2898    148828\n",
       "1438  2899    215165\n",
       "1439  2900    155428\n",
       "1440  2901    194309\n",
       "1441  2902    161869\n",
       "1442  2903    252003\n",
       "1443  2904    390071\n",
       "1444  2905   86900.2\n",
       "1445  2906    185824\n",
       "1446  2907    102648\n",
       "1447  2908    135618\n",
       "1448  2909    137276\n",
       "1449  2910   78629.2\n",
       "1450  2911   78241.2\n",
       "1451  2912    144431\n",
       "1452  2913   77745.6\n",
       "1453  2914   85168.6\n",
       "1454  2915     82532\n",
       "1455  2916   73666.2\n",
       "1456  2917    148710\n",
       "1457  2918    101818\n",
       "1458  2919    202167\n",
       "\n",
       "[1459 rows x 2 columns]"
      ]
     },
     "execution_count": 170,
     "metadata": {},
     "output_type": "execute_result"
    }
   ],
   "source": [
    "submission"
   ]
  },
  {
   "cell_type": "code",
   "execution_count": 173,
   "metadata": {},
   "outputs": [],
   "source": [
    "submission.to_csv('submission_27.csv',sep=',', encoding='utf-8', index=False)"
   ]
  },
  {
   "cell_type": "markdown",
   "metadata": {},
   "source": [
    "# SCORE 0.15669"
   ]
  },
  {
   "cell_type": "code",
   "execution_count": null,
   "metadata": {},
   "outputs": [],
   "source": [
    "Id\tSalePrice\n",
    "0\t1461\t121289.701118\n",
    "1\t1462\t158722.011066\n",
    "2\t1463\t189497.823688\n",
    "3\t1464\t199733.713860\n",
    "4\t1465\t187659.405255"
   ]
  }
 ],
 "metadata": {
  "kernelspec": {
   "display_name": "Python (tensorflow)",
   "language": "python",
   "name": "tensorflow"
  },
  "language_info": {
   "codemirror_mode": {
    "name": "ipython",
    "version": 3
   },
   "file_extension": ".py",
   "mimetype": "text/x-python",
   "name": "python",
   "nbconvert_exporter": "python",
   "pygments_lexer": "ipython3",
   "version": "3.6.8"
  },
  "varInspector": {
   "cols": {
    "lenName": 16,
    "lenType": 16,
    "lenVar": 40
   },
   "kernels_config": {
    "python": {
     "delete_cmd_postfix": "",
     "delete_cmd_prefix": "del ",
     "library": "var_list.py",
     "varRefreshCmd": "print(var_dic_list())"
    },
    "r": {
     "delete_cmd_postfix": ") ",
     "delete_cmd_prefix": "rm(",
     "library": "var_list.r",
     "varRefreshCmd": "cat(var_dic_list()) "
    }
   },
   "types_to_exclude": [
    "module",
    "function",
    "builtin_function_or_method",
    "instance",
    "_Feature"
   ],
   "window_display": false
  }
 },
 "nbformat": 4,
 "nbformat_minor": 2
}
